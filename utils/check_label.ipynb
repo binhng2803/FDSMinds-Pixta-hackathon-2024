{
 "cells": [
  {
   "cell_type": "code",
   "execution_count": 1,
   "metadata": {},
   "outputs": [],
   "source": [
    "import pandas as pd\n",
    "import itertools"
   ]
  },
  {
   "cell_type": "code",
   "execution_count": 2,
   "metadata": {},
   "outputs": [
    {
     "data": {
      "text/html": [
       "<div>\n",
       "<style scoped>\n",
       "    .dataframe tbody tr th:only-of-type {\n",
       "        vertical-align: middle;\n",
       "    }\n",
       "\n",
       "    .dataframe tbody tr th {\n",
       "        vertical-align: top;\n",
       "    }\n",
       "\n",
       "    .dataframe thead th {\n",
       "        text-align: right;\n",
       "    }\n",
       "</style>\n",
       "<table border=\"1\" class=\"dataframe\">\n",
       "  <thead>\n",
       "    <tr style=\"text-align: right;\">\n",
       "      <th></th>\n",
       "      <th>file_name</th>\n",
       "      <th>height</th>\n",
       "      <th>width</th>\n",
       "      <th>bbox</th>\n",
       "      <th>age</th>\n",
       "      <th>race</th>\n",
       "      <th>masked</th>\n",
       "      <th>skintone</th>\n",
       "      <th>emotion</th>\n",
       "      <th>gender</th>\n",
       "    </tr>\n",
       "  </thead>\n",
       "  <tbody>\n",
       "    <tr>\n",
       "      <th>0</th>\n",
       "      <td>10003832.jpg</td>\n",
       "      <td>2000</td>\n",
       "      <td>1459</td>\n",
       "      <td>[584.1895944369563, 301.32785213219023, 265.74...</td>\n",
       "      <td>20-30s</td>\n",
       "      <td>Mongoloid</td>\n",
       "      <td>unmasked</td>\n",
       "      <td>mid-light</td>\n",
       "      <td>Anger</td>\n",
       "      <td>Male</td>\n",
       "    </tr>\n",
       "    <tr>\n",
       "      <th>1</th>\n",
       "      <td>10005259.jpg</td>\n",
       "      <td>1395</td>\n",
       "      <td>2000</td>\n",
       "      <td>[1131.1132364709713, 312.5498771883628, 285.10...</td>\n",
       "      <td>20-30s</td>\n",
       "      <td>Mongoloid</td>\n",
       "      <td>unmasked</td>\n",
       "      <td>light</td>\n",
       "      <td>Neutral</td>\n",
       "      <td>Male</td>\n",
       "    </tr>\n",
       "    <tr>\n",
       "      <th>2</th>\n",
       "      <td>10005527.jpg</td>\n",
       "      <td>1507</td>\n",
       "      <td>2000</td>\n",
       "      <td>[548.0171526364226, 265.9999999999995, 246.980...</td>\n",
       "      <td>20-30s</td>\n",
       "      <td>Mongoloid</td>\n",
       "      <td>unmasked</td>\n",
       "      <td>mid-light</td>\n",
       "      <td>Sadness</td>\n",
       "      <td>Female</td>\n",
       "    </tr>\n",
       "    <tr>\n",
       "      <th>3</th>\n",
       "      <td>100086002.jpg</td>\n",
       "      <td>1334</td>\n",
       "      <td>2000</td>\n",
       "      <td>[900.5677208085174, 57.13482704531668, 163.848...</td>\n",
       "      <td>20-30s</td>\n",
       "      <td>Mongoloid</td>\n",
       "      <td>unmasked</td>\n",
       "      <td>light</td>\n",
       "      <td>Neutral</td>\n",
       "      <td>Female</td>\n",
       "    </tr>\n",
       "    <tr>\n",
       "      <th>4</th>\n",
       "      <td>100148503.jpg</td>\n",
       "      <td>1561</td>\n",
       "      <td>2000</td>\n",
       "      <td>[862.5207825161339, 478.9999999999999, 210.264...</td>\n",
       "      <td>20-30s</td>\n",
       "      <td>Caucasian</td>\n",
       "      <td>unmasked</td>\n",
       "      <td>light</td>\n",
       "      <td>Happiness</td>\n",
       "      <td>Female</td>\n",
       "    </tr>\n",
       "  </tbody>\n",
       "</table>\n",
       "</div>"
      ],
      "text/plain": [
       "       file_name  height  width  \\\n",
       "0   10003832.jpg    2000   1459   \n",
       "1   10005259.jpg    1395   2000   \n",
       "2   10005527.jpg    1507   2000   \n",
       "3  100086002.jpg    1334   2000   \n",
       "4  100148503.jpg    1561   2000   \n",
       "\n",
       "                                                bbox     age       race  \\\n",
       "0  [584.1895944369563, 301.32785213219023, 265.74...  20-30s  Mongoloid   \n",
       "1  [1131.1132364709713, 312.5498771883628, 285.10...  20-30s  Mongoloid   \n",
       "2  [548.0171526364226, 265.9999999999995, 246.980...  20-30s  Mongoloid   \n",
       "3  [900.5677208085174, 57.13482704531668, 163.848...  20-30s  Mongoloid   \n",
       "4  [862.5207825161339, 478.9999999999999, 210.264...  20-30s  Caucasian   \n",
       "\n",
       "     masked   skintone    emotion  gender  \n",
       "0  unmasked  mid-light      Anger    Male  \n",
       "1  unmasked      light    Neutral    Male  \n",
       "2  unmasked  mid-light    Sadness  Female  \n",
       "3  unmasked      light    Neutral  Female  \n",
       "4  unmasked      light  Happiness  Female  "
      ]
     },
     "execution_count": 2,
     "metadata": {},
     "output_type": "execute_result"
    }
   ],
   "source": [
    "file_path = '../csvfile/private_label.csv'\n",
    "df = pd.read_csv(file_path)\n",
    "df.head()"
   ]
  },
  {
   "cell_type": "code",
   "execution_count": 4,
   "metadata": {},
   "outputs": [],
   "source": [
    "correct = itertools.cycle([6, 3, 2, 4, 7, 2])\n",
    "\n",
    "for i, key in enumerate(df.columns):\n",
    "    if i < 4:\n",
    "        continue\n",
    "    uni = len(df[key].unique())\n",
    "    crr = next(correct)\n",
    "    if uni != crr:\n",
    "        print(f\"{key} has {uni} unique values, must be {crr}\")"
   ]
  },
  {
   "cell_type": "code",
   "execution_count": 3,
   "metadata": {},
   "outputs": [],
   "source": [
    "\n"
   ]
  },
  {
   "cell_type": "code",
   "execution_count": 10,
   "metadata": {},
   "outputs": [],
   "source": [
    "# traindf = pd.read_csv('../csvfile/train_labels.csv')\n",
    "# lis = traindf['file_name'].to_list()\n",
    "# lis = [i[:-4] for i in lis]\n",
    "# for name in df['file_name']:\n",
    "#     if name[:-4] in lis:\n",
    "#         print(name)"
   ]
  }
 ],
 "metadata": {
  "kernelspec": {
   "display_name": "torch2",
   "language": "python",
   "name": "python3"
  },
  "language_info": {
   "codemirror_mode": {
    "name": "ipython",
    "version": 3
   },
   "file_extension": ".py",
   "mimetype": "text/x-python",
   "name": "python",
   "nbconvert_exporter": "python",
   "pygments_lexer": "ipython3",
   "version": "3.10.13"
  }
 },
 "nbformat": 4,
 "nbformat_minor": 2
}
