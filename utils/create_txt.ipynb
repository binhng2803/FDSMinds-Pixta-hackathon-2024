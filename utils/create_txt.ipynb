{
 "cells": [
  {
   "cell_type": "code",
   "execution_count": 3,
   "metadata": {},
   "outputs": [
    {
     "name": "stdout",
     "output_type": "stream",
     "text": [
      "Conversion to YOLO format completed.\n"
     ]
    }
   ],
   "source": [
    "import pandas as pd\n",
    "import os\n",
    "\n",
    "def convert_bbox_to_yolo(bbox, img_width, img_height):\n",
    "    \"\"\"\n",
    "    Convert bounding box format from [x_min, y_min, width, height] to YOLO format [x_center, y_center, width, height],\n",
    "    with normalization by image width and height.\n",
    "    \"\"\"\n",
    "    x_min, y_min, width, height = bbox\n",
    "    x_center = x_min + width / 2\n",
    "    y_center = y_min + height / 2\n",
    "\n",
    "    # Normalize by image size\n",
    "    return [x_center / img_width, y_center / img_height, width / img_width, height / img_height]\n",
    "\n",
    "def save_yolo_format(file_name, bbox, class_id, save_dir):\n",
    "    \"\"\"\n",
    "    Save the YOLO format data into a .txt file\n",
    "    \"\"\"\n",
    "    yolo_data = f\"{class_id} {' '.join(map(str, bbox))}\\n\"\n",
    "    file_path = os.path.join(save_dir, file_name.replace('.jpg', '.txt'))\n",
    "\n",
    "    with open(file_path, 'a') as file:\n",
    "        file.write(yolo_data)\n",
    "\n",
    "# Load CSV file\n",
    "csv_file = '../csvfile/pmale.csv' # Replace with your CSV file path\n",
    "data = pd.read_csv(csv_file)\n",
    "\n",
    "# Directory to save .txt files\n",
    "save_directory = r\"D:\\Pixta\\male_private_data\\labels\"\n",
    "os.makedirs(save_directory, exist_ok=True)\n",
    "\n",
    "# Process each row\n",
    "ls = []\n",
    "for index, row in data.iterrows():\n",
    "    bbox = eval(row['bbox']) # Assuming bbox is stored as a string representation of a list\n",
    "    yolo_bbox = convert_bbox_to_yolo(bbox, row['width'], row['height'])\n",
    "    # if row['file_name'] in ls:\n",
    "    #     print(row['file_name'])\n",
    "    # ls.append(row['file_name'])\n",
    "    save_yolo_format(row['file_name'], yolo_bbox, 0, save_directory) # Assuming class_id is 0 for all\n",
    "\n",
    "print(\"Conversion to YOLO format completed.\")\n"
   ]
  },
  {
   "cell_type": "code",
   "execution_count": 2,
   "metadata": {},
   "outputs": [],
   "source": [
    "#101835746"
   ]
  }
 ],
 "metadata": {
  "kernelspec": {
   "display_name": "torch",
   "language": "python",
   "name": "python3"
  },
  "language_info": {
   "codemirror_mode": {
    "name": "ipython",
    "version": 3
   },
   "file_extension": ".py",
   "mimetype": "text/x-python",
   "name": "python",
   "nbconvert_exporter": "python",
   "pygments_lexer": "ipython3",
   "version": "3.8.17"
  }
 },
 "nbformat": 4,
 "nbformat_minor": 2
}
