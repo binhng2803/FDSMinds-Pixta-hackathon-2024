{
 "cells": [
  {
   "cell_type": "code",
   "execution_count": 1,
   "id": "82aaabcd-d79c-47bf-a4de-e6ea2ebdba33",
   "metadata": {},
   "outputs": [],
   "source": [
    "import os\n",
    "import random\n",
    "import shutil"
   ]
  },
  {
   "cell_type": "code",
   "execution_count": 6,
   "id": "090e7abb-1053-4113-961e-cfae94ba2887",
   "metadata": {},
   "outputs": [
    {
     "data": {
      "text/plain": [
       "(15000, 15000)"
      ]
     },
     "execution_count": 6,
     "metadata": {},
     "output_type": "execute_result"
    }
   ],
   "source": [
    "image_folder = './data/'\n",
    "label_folder = './all_yolo_labels/'\n",
    "len(os.listdir(image_folder)), len(os.listdir(label_folder))"
   ]
  },
  {
   "cell_type": "code",
   "execution_count": 14,
   "id": "cefc3204-c066-4578-ab85-47f3620a6e8d",
   "metadata": {},
   "outputs": [],
   "source": [
    "# train_folder = './yolo_dataset/train'\n",
    "# valid_folder = './yolo_dataset/valid'\n",
    "\n",
    "# os.makedirs(train_folder, exist_ok=True)\n",
    "# os.makedirs(valid_folder, exist_ok=True)\n",
    "\n",
    "# validation_ratio = 0.2\n",
    "\n",
    "# image_files = [f for f in os.listdir(image_folder) if f.endswith('.jpg')]\n",
    "\n",
    "# random.shuffle(image_files)\n",
    "\n",
    "# num_valid = int(validation_ratio * len(image_files))\n",
    "\n",
    "# train_images = image_files[num_valid:]\n",
    "# valid_images = image_files[:num_valid]\n",
    "\n",
    "# for image_file in train_images:\n",
    "#     shutil.copy(os.path.join(image_folder, image_file), os.path.join('./yolo_dataset/train/images', image_file))\n",
    "\n",
    "# for image_file in valid_images:\n",
    "#     shutil.copy(os.path.join(image_folder, image_file), os.path.join('./yolo_dataset/valid/images', image_file))\n",
    "\n"
   ]
  },
  {
   "cell_type": "code",
   "execution_count": 12,
   "id": "ba1a701d-d986-47f9-9686-852f5ab276dc",
   "metadata": {},
   "outputs": [],
   "source": [
    "# # Copy corresponding label files to train folder\n",
    "# for image_file in train_images:\n",
    "#     label_file = image_file[:-3] + 'txt'\n",
    "#     shutil.copy(os.path.join(label_folder, label_file), os.path.join('./yolo_dataset/train/labels', label_file))\n",
    "\n",
    "# # Copy corresponding label files to valid folder\n",
    "# for image_file in valid_images:\n",
    "#     label_file = image_file[:-3] + 'txt'\n",
    "#     shutil.copy(os.path.join(label_folder, label_file), os.path.join('./yolo_dataset/valid/labels', label_file))"
   ]
  },
  {
   "cell_type": "code",
   "execution_count": 19,
   "id": "0c82d045-7be5-438e-8aaa-dd591364baad",
   "metadata": {},
   "outputs": [
    {
     "data": {
      "text/plain": [
       "[('100013282.jpg', '100013282.txt'),\n",
       " ('100016175.jpg', '100016175.txt'),\n",
       " ('10004189.jpg', '10004189.txt'),\n",
       " ('100104575.jpg', '100104575.txt'),\n",
       " ('100104600.jpg', '100104600.txt')]"
      ]
     },
     "execution_count": 19,
     "metadata": {},
     "output_type": "execute_result"
    }
   ],
   "source": [
    "imgs = os.listdir('yolo_dataset/train/images')\n",
    "labels = os.listdir('yolo_dataset/train/labels')\n",
    "imgs.sort()\n",
    "labels.sort()\n",
    "list(zip(imgs,labels ))[:5]"
   ]
  },
  {
   "cell_type": "code",
   "execution_count": null,
   "id": "437d4e8e-c780-4dde-a541-c42bff66d9cf",
   "metadata": {},
   "outputs": [],
   "source": []
  }
 ],
 "metadata": {
  "kernelspec": {
   "display_name": "Python 3 (ipykernel)",
   "language": "python",
   "name": "python3"
  },
  "language_info": {
   "codemirror_mode": {
    "name": "ipython",
    "version": 3
   },
   "file_extension": ".py",
   "mimetype": "text/x-python",
   "name": "python",
   "nbconvert_exporter": "python",
   "pygments_lexer": "ipython3",
   "version": "3.10.13"
  }
 },
 "nbformat": 4,
 "nbformat_minor": 5
}
