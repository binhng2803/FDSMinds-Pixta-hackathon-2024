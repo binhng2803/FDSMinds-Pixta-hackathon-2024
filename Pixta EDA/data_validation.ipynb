{
 "cells": [
  {
   "cell_type": "code",
   "execution_count": 7,
   "metadata": {},
   "outputs": [],
   "source": [
    "import pandas as pd\n",
    "import cv2\n",
    "import glob\n",
    "import os\n",
    "import numpy as np"
   ]
  },
  {
   "cell_type": "code",
   "execution_count": 6,
   "metadata": {},
   "outputs": [],
   "source": [
    "def bbox_convert(row):\n",
    "    bbox = np.array(row[1:-1].split(\", \"), dtype=np.float32)\n",
    "    bbox = bbox.astype(np.int16)\n",
    "    return bbox"
   ]
  },
  {
   "cell_type": "code",
   "execution_count": 15,
   "metadata": {},
   "outputs": [],
   "source": [
    "csv_file = \"Tung.csv\""
   ]
  },
  {
   "cell_type": "code",
   "execution_count": 16,
   "metadata": {},
   "outputs": [],
   "source": [
    "labels = pd.read_csv(csv_file)"
   ]
  },
  {
   "cell_type": "code",
   "execution_count": 17,
   "metadata": {},
   "outputs": [
    {
     "data": {
      "text/plain": [
       "Index(['file_name', 'height', 'width', 'bbox', 'age', 'race', 'masked',\n",
       "       'skintone', 'emotion', 'gender'],\n",
       "      dtype='object')"
      ]
     },
     "execution_count": 17,
     "metadata": {},
     "output_type": "execute_result"
    }
   ],
   "source": [
    "labels.columns"
   ]
  },
  {
   "cell_type": "markdown",
   "metadata": {},
   "source": [
    "Race validation"
   ]
  },
  {
   "cell_type": "code",
   "execution_count": 23,
   "metadata": {},
   "outputs": [],
   "source": [
    "for index, row in labels.iterrows():\n",
    "    filename = row['file_name']\n",
    "    race = row['race']\n",
    "    bbox = bbox_convert(row['bbox'])\n",
    "    image = cv2.imread(os.path.join(\"./mnt/md0/projects/sami-hackathon/private/data/\", filename))\n",
    "    bbox = bbox_convert(row['bbox'])\n",
    "    cv2.putText(image, race, (bbox[0],bbox[1]), cv2.FONT_HERSHEY_PLAIN, 5, (255, 0, 0), 2)\n",
    "    cv2.imwrite(os.path.join(\"features_cluster/race\", filename), image)\n"
   ]
  },
  {
   "cell_type": "code",
   "execution_count": 24,
   "metadata": {},
   "outputs": [],
   "source": [
    "for index, row in labels.iterrows():\n",
    "    filename = row['file_name']\n",
    "    skintone = row['skintone']\n",
    "    image = cv2.imread(os.path.join(\"./mnt/md0/projects/sami-hackathon/private/data/\", filename))\n",
    "    cv2.putText(image, skintone, (bbox[0],bbox[1]), cv2.FONT_HERSHEY_PLAIN, 5, (255, 0, 0), 2)\n",
    "    cv2.imwrite(os.path.join(\"features_cluster/skintone\", filename), image)"
   ]
  },
  {
   "cell_type": "code",
   "execution_count": null,
   "metadata": {},
   "outputs": [],
   "source": [
    "for index, row in labels.iterrows():\n",
    "    filename = row['file_name']\n",
    "    gender = row['gender']\n",
    "    image = cv2.imread(os.path.join(\"./mnt/md0/projects/sami-hackathon/private/data/\", filename))\n",
    "    cv2.putText(image, gender, (bbox[0],bbox[1]), cv2.FONT_HERSHEY_PLAIN, 5, (255, 0, 0), 2)\n",
    "    cv2.imwrite(os.path.join(\"features_cluster/gender\", filename), image)"
   ]
  },
  {
   "cell_type": "code",
   "execution_count": null,
   "metadata": {},
   "outputs": [],
   "source": []
  }
 ],
 "metadata": {
  "kernelspec": {
   "display_name": "Pixta",
   "language": "python",
   "name": "python3"
  },
  "language_info": {
   "codemirror_mode": {
    "name": "ipython",
    "version": 3
   },
   "file_extension": ".py",
   "mimetype": "text/x-python",
   "name": "python",
   "nbconvert_exporter": "python",
   "pygments_lexer": "ipython3",
   "version": "3.9.18"
  }
 },
 "nbformat": 4,
 "nbformat_minor": 2
}
