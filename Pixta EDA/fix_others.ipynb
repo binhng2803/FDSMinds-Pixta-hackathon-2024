{
 "cells": [
  {
   "cell_type": "code",
   "execution_count": 1,
   "metadata": {},
   "outputs": [],
   "source": [
    "import os\n",
    "from glob import glob\n",
    "import cv2\n",
    "import pandas as pd\n",
    "import numpy as np"
   ]
  },
  {
   "cell_type": "code",
   "execution_count": 18,
   "metadata": {},
   "outputs": [],
   "source": [
    "fix_csv_files = glob(\"./need2fix/*.csv\")\n",
    "fix_excel_files = glob(\"./need2fix/*.xlsx\")"
   ]
  },
  {
   "cell_type": "code",
   "execution_count": 38,
   "metadata": {},
   "outputs": [],
   "source": [
    "labels = pd.read_csv(\"new_labels.csv\")"
   ]
  },
  {
   "cell_type": "code",
   "execution_count": 24,
   "metadata": {},
   "outputs": [],
   "source": [
    "fix_data = pd.DataFrame(columns=labels.columns.values.tolist())"
   ]
  },
  {
   "cell_type": "code",
   "execution_count": 25,
   "metadata": {},
   "outputs": [],
   "source": [
    "for file in fix_csv_files:\n",
    "    new_fix_data = pd.read_csv(file)\n",
    "    fix_data = pd.concat([fix_data, new_fix_data], ignore_index=True)\n",
    "for file in fix_excel_files:\n",
    "    new_fix_data = pd.read_excel(file)\n",
    "    fix_data = pd.concat([fix_data, new_fix_data], ignore_index=True)"
   ]
  },
  {
   "cell_type": "code",
   "execution_count": 26,
   "metadata": {},
   "outputs": [
    {
     "data": {
      "text/html": [
       "<div>\n",
       "<style scoped>\n",
       "    .dataframe tbody tr th:only-of-type {\n",
       "        vertical-align: middle;\n",
       "    }\n",
       "\n",
       "    .dataframe tbody tr th {\n",
       "        vertical-align: top;\n",
       "    }\n",
       "\n",
       "    .dataframe thead th {\n",
       "        text-align: right;\n",
       "    }\n",
       "</style>\n",
       "<table border=\"1\" class=\"dataframe\">\n",
       "  <thead>\n",
       "    <tr style=\"text-align: right;\">\n",
       "      <th></th>\n",
       "      <th>file_name</th>\n",
       "      <th>height</th>\n",
       "      <th>width</th>\n",
       "      <th>bbox</th>\n",
       "      <th>age</th>\n",
       "      <th>race</th>\n",
       "      <th>masked</th>\n",
       "      <th>skintone</th>\n",
       "      <th>emotion</th>\n",
       "      <th>gender</th>\n",
       "    </tr>\n",
       "  </thead>\n",
       "  <tbody>\n",
       "    <tr>\n",
       "      <th>count</th>\n",
       "      <td>178</td>\n",
       "      <td>178</td>\n",
       "      <td>178</td>\n",
       "      <td>178</td>\n",
       "      <td>178</td>\n",
       "      <td>178</td>\n",
       "      <td>178</td>\n",
       "      <td>178</td>\n",
       "      <td>178</td>\n",
       "      <td>178</td>\n",
       "    </tr>\n",
       "    <tr>\n",
       "      <th>unique</th>\n",
       "      <td>167</td>\n",
       "      <td>22</td>\n",
       "      <td>10</td>\n",
       "      <td>175</td>\n",
       "      <td>6</td>\n",
       "      <td>3</td>\n",
       "      <td>2</td>\n",
       "      <td>4</td>\n",
       "      <td>7</td>\n",
       "      <td>2</td>\n",
       "    </tr>\n",
       "    <tr>\n",
       "      <th>top</th>\n",
       "      <td>75769653.jpg</td>\n",
       "      <td>1024</td>\n",
       "      <td>1024</td>\n",
       "      <td>[238.61616161616155, 187.43434343434387, 532.6...</td>\n",
       "      <td>20-30s</td>\n",
       "      <td>Caucasian</td>\n",
       "      <td>unmasked</td>\n",
       "      <td>mid-light</td>\n",
       "      <td>Happiness</td>\n",
       "      <td>Female</td>\n",
       "    </tr>\n",
       "    <tr>\n",
       "      <th>freq</th>\n",
       "      <td>5</td>\n",
       "      <td>84</td>\n",
       "      <td>84</td>\n",
       "      <td>2</td>\n",
       "      <td>135</td>\n",
       "      <td>121</td>\n",
       "      <td>175</td>\n",
       "      <td>62</td>\n",
       "      <td>95</td>\n",
       "      <td>111</td>\n",
       "    </tr>\n",
       "  </tbody>\n",
       "</table>\n",
       "</div>"
      ],
      "text/plain": [
       "           file_name  height  width  \\\n",
       "count            178     178    178   \n",
       "unique           167      22     10   \n",
       "top     75769653.jpg    1024   1024   \n",
       "freq               5      84     84   \n",
       "\n",
       "                                                     bbox     age       race  \\\n",
       "count                                                 178     178        178   \n",
       "unique                                                175       6          3   \n",
       "top     [238.61616161616155, 187.43434343434387, 532.6...  20-30s  Caucasian   \n",
       "freq                                                    2     135        121   \n",
       "\n",
       "          masked   skintone    emotion  gender  \n",
       "count        178        178        178     178  \n",
       "unique         2          4          7       2  \n",
       "top     unmasked  mid-light  Happiness  Female  \n",
       "freq         175         62         95     111  "
      ]
     },
     "execution_count": 26,
     "metadata": {},
     "output_type": "execute_result"
    }
   ],
   "source": [
    "fix_data.describe()"
   ]
  },
  {
   "cell_type": "code",
   "execution_count": 39,
   "metadata": {},
   "outputs": [
    {
     "data": {
      "text/plain": [
       "skintone\n",
       "light        10485\n",
       "mid-light     3688\n",
       "mid-dark       798\n",
       "dark           339\n",
       "Name: count, dtype: int64"
      ]
     },
     "execution_count": 39,
     "metadata": {},
     "output_type": "execute_result"
    }
   ],
   "source": [
    "labels.skintone.value_counts()"
   ]
  },
  {
   "cell_type": "code",
   "execution_count": 44,
   "metadata": {},
   "outputs": [],
   "source": [
    "for index, row in fix_data.iterrows():\n",
    "    replace_row = labels.loc[(labels.file_name == row['file_name']) & (labels.bbox == row['bbox'])]\n",
    "    values_list = replace_row.values.tolist()[0]\n",
    "    try:\n",
    "        if values_list[5] == 'Negroid':\n",
    "            labels.loc[(labels.file_name == row['file_name']) & (labels.bbox == row['bbox']), 'skintone'] = 'dark'\n",
    "        elif values_list[5] == 'Caucasian':\n",
    "            labels.loc[(labels.file_name == row['file_name']) & (labels.bbox == row['bbox']), 'skintone'] = 'light'\n",
    "        elif values_list[5] == 'Mongoloid':\n",
    "            labels.loc[(labels.file_name == row['file_name']) & (labels.bbox == row['bbox']), 'skintone'] = 'mid-light'\n",
    "    except:\n",
    "        print(values_list)"
   ]
  },
  {
   "cell_type": "code",
   "execution_count": 45,
   "metadata": {},
   "outputs": [
    {
     "data": {
      "text/plain": [
       "skintone\n",
       "light        10551\n",
       "mid-light     3669\n",
       "mid-dark       740\n",
       "dark           350\n",
       "Name: count, dtype: int64"
      ]
     },
     "execution_count": 45,
     "metadata": {},
     "output_type": "execute_result"
    }
   ],
   "source": [
    "labels.skintone.value_counts()"
   ]
  },
  {
   "cell_type": "code",
   "execution_count": 46,
   "metadata": {},
   "outputs": [],
   "source": [
    "labels.to_csv(\"new_new_labels.csv\")"
   ]
  },
  {
   "cell_type": "code",
   "execution_count": null,
   "metadata": {},
   "outputs": [],
   "source": []
  }
 ],
 "metadata": {
  "kernelspec": {
   "display_name": "Pixta",
   "language": "python",
   "name": "python3"
  },
  "language_info": {
   "codemirror_mode": {
    "name": "ipython",
    "version": 3
   },
   "file_extension": ".py",
   "mimetype": "text/x-python",
   "name": "python",
   "nbconvert_exporter": "python",
   "pygments_lexer": "ipython3",
   "version": "3.9.18"
  }
 },
 "nbformat": 4,
 "nbformat_minor": 2
}
