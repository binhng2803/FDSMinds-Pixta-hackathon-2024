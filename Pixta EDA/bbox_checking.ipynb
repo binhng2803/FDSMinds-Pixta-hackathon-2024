{
 "cells": [
  {
   "cell_type": "code",
   "execution_count": 1,
   "metadata": {},
   "outputs": [],
   "source": [
    "import cv2\n",
    "import pandas as pd\n",
    "import os\n",
    "import numpy as np\n",
    "import matplotlib.pyplot as plt"
   ]
  },
  {
   "cell_type": "code",
   "execution_count": 13,
   "metadata": {},
   "outputs": [],
   "source": [
    "labels = pd.read_csv(\"./final_data.csv\")"
   ]
  },
  {
   "cell_type": "code",
   "execution_count": 3,
   "metadata": {},
   "outputs": [
    {
     "data": {
      "text/html": [
       "<div>\n",
       "<style scoped>\n",
       "    .dataframe tbody tr th:only-of-type {\n",
       "        vertical-align: middle;\n",
       "    }\n",
       "\n",
       "    .dataframe tbody tr th {\n",
       "        vertical-align: top;\n",
       "    }\n",
       "\n",
       "    .dataframe thead th {\n",
       "        text-align: right;\n",
       "    }\n",
       "</style>\n",
       "<table border=\"1\" class=\"dataframe\">\n",
       "  <thead>\n",
       "    <tr style=\"text-align: right;\">\n",
       "      <th></th>\n",
       "      <th>file_name</th>\n",
       "      <th>height</th>\n",
       "      <th>width</th>\n",
       "      <th>bbox</th>\n",
       "      <th>age</th>\n",
       "      <th>race</th>\n",
       "      <th>masked</th>\n",
       "      <th>skintone</th>\n",
       "      <th>emotion</th>\n",
       "      <th>gender</th>\n",
       "    </tr>\n",
       "  </thead>\n",
       "  <tbody>\n",
       "    <tr>\n",
       "      <th>0</th>\n",
       "      <td>100013282.jpg</td>\n",
       "      <td>1333</td>\n",
       "      <td>2000</td>\n",
       "      <td>[934.0000000000097, 144.82228672769534, 238.24...</td>\n",
       "      <td>20-30s</td>\n",
       "      <td>Caucasian</td>\n",
       "      <td>unmasked</td>\n",
       "      <td>mid-light</td>\n",
       "      <td>Neutral</td>\n",
       "      <td>Male</td>\n",
       "    </tr>\n",
       "    <tr>\n",
       "      <th>1</th>\n",
       "      <td>100016175.jpg</td>\n",
       "      <td>1333</td>\n",
       "      <td>2000</td>\n",
       "      <td>[1094.0513571635438, 422.91772295627203, 55.45...</td>\n",
       "      <td>20-30s</td>\n",
       "      <td>Caucasian</td>\n",
       "      <td>unmasked</td>\n",
       "      <td>light</td>\n",
       "      <td>Neutral</td>\n",
       "      <td>Male</td>\n",
       "    </tr>\n",
       "    <tr>\n",
       "      <th>2</th>\n",
       "      <td>10004189.jpg</td>\n",
       "      <td>2000</td>\n",
       "      <td>1333</td>\n",
       "      <td>[419.93871061403877, 269.1250391680045, 377.19...</td>\n",
       "      <td>20-30s</td>\n",
       "      <td>Mongoloid</td>\n",
       "      <td>unmasked</td>\n",
       "      <td>light</td>\n",
       "      <td>Happiness</td>\n",
       "      <td>Female</td>\n",
       "    </tr>\n",
       "    <tr>\n",
       "      <th>3</th>\n",
       "      <td>100104575.jpg</td>\n",
       "      <td>1333</td>\n",
       "      <td>2000</td>\n",
       "      <td>[1490.6909678848915, 676.0000000000097, 37.553...</td>\n",
       "      <td>20-30s</td>\n",
       "      <td>Caucasian</td>\n",
       "      <td>unmasked</td>\n",
       "      <td>mid-light</td>\n",
       "      <td>Neutral</td>\n",
       "      <td>Male</td>\n",
       "    </tr>\n",
       "    <tr>\n",
       "      <th>4</th>\n",
       "      <td>100104600.jpg</td>\n",
       "      <td>2000</td>\n",
       "      <td>1333</td>\n",
       "      <td>[549.169724453414, 92.52040334013152, 306.8821...</td>\n",
       "      <td>20-30s</td>\n",
       "      <td>Caucasian</td>\n",
       "      <td>unmasked</td>\n",
       "      <td>mid-light</td>\n",
       "      <td>Happiness</td>\n",
       "      <td>Female</td>\n",
       "    </tr>\n",
       "  </tbody>\n",
       "</table>\n",
       "</div>"
      ],
      "text/plain": [
       "       file_name  height  width  \\\n",
       "0  100013282.jpg    1333   2000   \n",
       "1  100016175.jpg    1333   2000   \n",
       "2   10004189.jpg    2000   1333   \n",
       "3  100104575.jpg    1333   2000   \n",
       "4  100104600.jpg    2000   1333   \n",
       "\n",
       "                                                bbox     age       race  \\\n",
       "0  [934.0000000000097, 144.82228672769534, 238.24...  20-30s  Caucasian   \n",
       "1  [1094.0513571635438, 422.91772295627203, 55.45...  20-30s  Caucasian   \n",
       "2  [419.93871061403877, 269.1250391680045, 377.19...  20-30s  Mongoloid   \n",
       "3  [1490.6909678848915, 676.0000000000097, 37.553...  20-30s  Caucasian   \n",
       "4  [549.169724453414, 92.52040334013152, 306.8821...  20-30s  Caucasian   \n",
       "\n",
       "     masked   skintone    emotion  gender  \n",
       "0  unmasked  mid-light    Neutral    Male  \n",
       "1  unmasked      light    Neutral    Male  \n",
       "2  unmasked      light  Happiness  Female  \n",
       "3  unmasked  mid-light    Neutral    Male  \n",
       "4  unmasked  mid-light  Happiness  Female  "
      ]
     },
     "execution_count": 3,
     "metadata": {},
     "output_type": "execute_result"
    }
   ],
   "source": [
    "labels.head()"
   ]
  },
  {
   "cell_type": "code",
   "execution_count": 4,
   "metadata": {},
   "outputs": [
    {
     "data": {
      "text/html": [
       "<div>\n",
       "<style scoped>\n",
       "    .dataframe tbody tr th:only-of-type {\n",
       "        vertical-align: middle;\n",
       "    }\n",
       "\n",
       "    .dataframe tbody tr th {\n",
       "        vertical-align: top;\n",
       "    }\n",
       "\n",
       "    .dataframe thead th {\n",
       "        text-align: right;\n",
       "    }\n",
       "</style>\n",
       "<table border=\"1\" class=\"dataframe\">\n",
       "  <thead>\n",
       "    <tr style=\"text-align: right;\">\n",
       "      <th></th>\n",
       "      <th>file_name</th>\n",
       "      <th>height</th>\n",
       "      <th>width</th>\n",
       "      <th>bbox</th>\n",
       "      <th>age</th>\n",
       "      <th>race</th>\n",
       "      <th>masked</th>\n",
       "      <th>skintone</th>\n",
       "      <th>emotion</th>\n",
       "      <th>gender</th>\n",
       "    </tr>\n",
       "  </thead>\n",
       "  <tbody>\n",
       "    <tr>\n",
       "      <th>651</th>\n",
       "      <td>1308644.jpg</td>\n",
       "      <td>2000</td>\n",
       "      <td>1328</td>\n",
       "      <td>[482.949853077264, 871.1844803331134, 221.2718...</td>\n",
       "      <td>20-30s</td>\n",
       "      <td>Mongoloid</td>\n",
       "      <td>unmasked</td>\n",
       "      <td>light</td>\n",
       "      <td>Happiness</td>\n",
       "      <td>Female</td>\n",
       "    </tr>\n",
       "  </tbody>\n",
       "</table>\n",
       "</div>"
      ],
      "text/plain": [
       "       file_name  height  width  \\\n",
       "651  1308644.jpg    2000   1328   \n",
       "\n",
       "                                                  bbox     age       race  \\\n",
       "651  [482.949853077264, 871.1844803331134, 221.2718...  20-30s  Mongoloid   \n",
       "\n",
       "       masked skintone    emotion  gender  \n",
       "651  unmasked    light  Happiness  Female  "
      ]
     },
     "execution_count": 4,
     "metadata": {},
     "output_type": "execute_result"
    }
   ],
   "source": [
    "labels[labels.file_name == \"1308644.jpg\"]"
   ]
  },
  {
   "cell_type": "code",
   "execution_count": 5,
   "metadata": {},
   "outputs": [],
   "source": [
    "name = \"1308644.jpg\"\n",
    "full_path = os.path.join(\"./mnt/md0/projects/sami-hackathon/private/data/\", name)\n",
    "image = cv2.imread(full_path)\n"
   ]
  },
  {
   "cell_type": "code",
   "execution_count": 6,
   "metadata": {},
   "outputs": [],
   "source": [
    "bbox = labels[labels.file_name == name].iloc[0, 3]\n",
    "bbox = np.array(bbox[1:-1].split(\", \"), dtype=np.float32)"
   ]
  },
  {
   "cell_type": "code",
   "execution_count": 7,
   "metadata": {},
   "outputs": [],
   "source": [
    "bbox = bbox.astype(np.int16)"
   ]
  },
  {
   "cell_type": "code",
   "execution_count": 8,
   "metadata": {},
   "outputs": [],
   "source": [
    "image = cv2.rectangle(image, (bbox[0], bbox[1]), (bbox[0] + bbox[2], bbox[1] + bbox[3]), (255, 255, 0), 2)"
   ]
  },
  {
   "cell_type": "code",
   "execution_count": 9,
   "metadata": {},
   "outputs": [
    {
     "ename": "error",
     "evalue": "OpenCV(4.9.0) D:\\a\\opencv-python\\opencv-python\\opencv\\modules\\imgproc\\src\\color.cpp:196: error: (-215:Assertion failed) !_src.empty() in function 'cv::cvtColor'\n",
     "output_type": "error",
     "traceback": [
      "\u001b[1;31m---------------------------------------------------------------------------\u001b[0m",
      "\u001b[1;31merror\u001b[0m                                     Traceback (most recent call last)",
      "Cell \u001b[1;32mIn[9], line 1\u001b[0m\n\u001b[1;32m----> 1\u001b[0m plt\u001b[38;5;241m.\u001b[39mimshow(\u001b[43mcv2\u001b[49m\u001b[38;5;241;43m.\u001b[39;49m\u001b[43mcvtColor\u001b[49m\u001b[43m(\u001b[49m\u001b[43mimage\u001b[49m\u001b[43m,\u001b[49m\u001b[43m \u001b[49m\u001b[43mcv2\u001b[49m\u001b[38;5;241;43m.\u001b[39;49m\u001b[43mCOLOR_BGR2RGB\u001b[49m\u001b[43m)\u001b[49m)\n",
      "\u001b[1;31merror\u001b[0m: OpenCV(4.9.0) D:\\a\\opencv-python\\opencv-python\\opencv\\modules\\imgproc\\src\\color.cpp:196: error: (-215:Assertion failed) !_src.empty() in function 'cv::cvtColor'\n"
     ]
    }
   ],
   "source": [
    "plt.imshow(cv2.cvtColor(image, cv2.COLOR_BGR2RGB))"
   ]
  },
  {
   "cell_type": "code",
   "execution_count": 15,
   "metadata": {},
   "outputs": [],
   "source": [
    "def bbox_convert(row):\n",
    "    bbox = np.array(row[1:-1].split(\", \"), dtype=np.float32)\n",
    "    bbox = bbox.astype(np.int16)\n",
    "    return bbox"
   ]
  },
  {
   "cell_type": "code",
   "execution_count": 16,
   "metadata": {},
   "outputs": [
    {
     "ename": "KeyboardInterrupt",
     "evalue": "",
     "output_type": "error",
     "traceback": [
      "\u001b[1;31m---------------------------------------------------------------------------\u001b[0m",
      "\u001b[1;31mKeyboardInterrupt\u001b[0m                         Traceback (most recent call last)",
      "Cell \u001b[1;32mIn[16], line 4\u001b[0m\n\u001b[0;32m      2\u001b[0m path \u001b[38;5;241m=\u001b[39m row[\u001b[38;5;124m'\u001b[39m\u001b[38;5;124mfile_name\u001b[39m\u001b[38;5;124m'\u001b[39m]\n\u001b[0;32m      3\u001b[0m full_path \u001b[38;5;241m=\u001b[39m os\u001b[38;5;241m.\u001b[39mpath\u001b[38;5;241m.\u001b[39mjoin(\u001b[38;5;124m\"\u001b[39m\u001b[38;5;124m./classification/race/dataset/\u001b[39m\u001b[38;5;124m\"\u001b[39m, path)\n\u001b[1;32m----> 4\u001b[0m image \u001b[38;5;241m=\u001b[39m \u001b[43mcv2\u001b[49m\u001b[38;5;241;43m.\u001b[39;49m\u001b[43mimread\u001b[49m\u001b[43m(\u001b[49m\u001b[43mfull_path\u001b[49m\u001b[43m)\u001b[49m\n\u001b[0;32m      5\u001b[0m bbox \u001b[38;5;241m=\u001b[39m row[\u001b[38;5;124m'\u001b[39m\u001b[38;5;124mbbox\u001b[39m\u001b[38;5;124m'\u001b[39m]\n\u001b[0;32m      6\u001b[0m bbox \u001b[38;5;241m=\u001b[39m np\u001b[38;5;241m.\u001b[39marray(bbox[\u001b[38;5;241m1\u001b[39m:\u001b[38;5;241m-\u001b[39m\u001b[38;5;241m1\u001b[39m]\u001b[38;5;241m.\u001b[39msplit(\u001b[38;5;124m\"\u001b[39m\u001b[38;5;124m, \u001b[39m\u001b[38;5;124m\"\u001b[39m), dtype\u001b[38;5;241m=\u001b[39mnp\u001b[38;5;241m.\u001b[39mfloat32)\n",
      "\u001b[1;31mKeyboardInterrupt\u001b[0m: "
     ]
    }
   ],
   "source": [
    "for index, row in labels.iterrows():\n",
    "    path = row['file_name']\n",
    "    full_path = os.path.join(\"./classification/race/dataset/\", path)\n",
    "    image = cv2.imread(full_path)\n",
    "    bbox = row['bbox']\n",
    "    bbox = np.array(bbox[1:-1].split(\", \"), dtype=np.float32)\n",
    "    bbox = bbox.astype(np.int16)\n",
    "    # image = cv2.rectangle(image, (bbox[0], bbox[1]), (bbox[0] + bbox[2], bbox[1] + bbox[3]), (255, 255, 0), 2)\n",
    "    image = image[bbox[1]:bbox[1]+bbox[3], bbox[0]:bbox[0]+bbox[2]]\n",
    "    cv2.imwrite(os.path.join(\"./bboxes/\", path), image)"
   ]
  },
  {
   "cell_type": "code",
   "execution_count": null,
   "metadata": {},
   "outputs": [],
   "source": []
  }
 ],
 "metadata": {
  "kernelspec": {
   "display_name": "Pixta",
   "language": "python",
   "name": "python3"
  },
  "language_info": {
   "codemirror_mode": {
    "name": "ipython",
    "version": 3
   },
   "file_extension": ".py",
   "mimetype": "text/x-python",
   "name": "python",
   "nbconvert_exporter": "python",
   "pygments_lexer": "ipython3",
   "version": "3.9.18"
  }
 },
 "nbformat": 4,
 "nbformat_minor": 2
}
