{
 "cells": [
  {
   "cell_type": "code",
   "execution_count": 1,
   "metadata": {},
   "outputs": [],
   "source": [
    "import cv2\n",
    "import pandas as pd\n",
    "import os\n",
    "import numpy as np\n",
    "import matplotlib.pyplot as plt"
   ]
  },
  {
   "cell_type": "code",
   "execution_count": 2,
   "metadata": {},
   "outputs": [],
   "source": [
    "labels = pd.read_csv(\"labels.csv\")"
   ]
  },
  {
   "cell_type": "code",
   "execution_count": 3,
   "metadata": {},
   "outputs": [],
   "source": [
    "for index, row in labels.iterrows():\n",
    "    bbox = row['bbox']\n",
    "    bbox = bbox[1:-1].split(\", \")\n",
    "    if len(bbox) == 8:\n",
    "        print(row['file_name'])"
   ]
  },
  {
   "cell_type": "code",
   "execution_count": 4,
   "metadata": {},
   "outputs": [],
   "source": [
    "def multi_fields_detect(df, columns):\n",
    "    for index, row in df.iterrows():\n",
    "        row = row[columns]\n",
    "        row = row.split(\", \")\n",
    "        if len(row) > 1:\n",
    "            print(f\"Multi fields detected: {row['file_name']} at column {columns}\")"
   ]
  },
  {
   "cell_type": "code",
   "execution_count": 5,
   "metadata": {},
   "outputs": [
    {
     "data": {
      "text/html": [
       "<div>\n",
       "<style scoped>\n",
       "    .dataframe tbody tr th:only-of-type {\n",
       "        vertical-align: middle;\n",
       "    }\n",
       "\n",
       "    .dataframe tbody tr th {\n",
       "        vertical-align: top;\n",
       "    }\n",
       "\n",
       "    .dataframe thead th {\n",
       "        text-align: right;\n",
       "    }\n",
       "</style>\n",
       "<table border=\"1\" class=\"dataframe\">\n",
       "  <thead>\n",
       "    <tr style=\"text-align: right;\">\n",
       "      <th></th>\n",
       "      <th>file_name</th>\n",
       "      <th>height</th>\n",
       "      <th>width</th>\n",
       "      <th>bbox</th>\n",
       "      <th>age</th>\n",
       "      <th>race</th>\n",
       "      <th>masked</th>\n",
       "      <th>skintone</th>\n",
       "      <th>emotion</th>\n",
       "      <th>gender</th>\n",
       "    </tr>\n",
       "  </thead>\n",
       "  <tbody>\n",
       "    <tr>\n",
       "      <th>101</th>\n",
       "      <td>101835746.jpg</td>\n",
       "      <td>721</td>\n",
       "      <td>2000</td>\n",
       "      <td>[1179.813401047065, 124.09557246908886, 49.807...</td>\n",
       "      <td>20-30s</td>\n",
       "      <td>Caucasian</td>\n",
       "      <td>unmasked</td>\n",
       "      <td>light</td>\n",
       "      <td>Neutral</td>\n",
       "      <td>Female</td>\n",
       "    </tr>\n",
       "    <tr>\n",
       "      <th>102</th>\n",
       "      <td>101835746.jpg</td>\n",
       "      <td>721</td>\n",
       "      <td>2000</td>\n",
       "      <td>[848.5984121871273, 118.49608682515225, 47.128...</td>\n",
       "      <td>20-30s</td>\n",
       "      <td>Caucasian</td>\n",
       "      <td>unmasked</td>\n",
       "      <td>light</td>\n",
       "      <td>Happiness</td>\n",
       "      <td>Female</td>\n",
       "    </tr>\n",
       "    <tr>\n",
       "      <th>103</th>\n",
       "      <td>101835746.jpg</td>\n",
       "      <td>721</td>\n",
       "      <td>2000</td>\n",
       "      <td>[470.56823253169784, 136.43311250673352, 46.29...</td>\n",
       "      <td>20-30s</td>\n",
       "      <td>Caucasian</td>\n",
       "      <td>unmasked</td>\n",
       "      <td>light</td>\n",
       "      <td>Happiness</td>\n",
       "      <td>Female</td>\n",
       "    </tr>\n",
       "    <tr>\n",
       "      <th>104</th>\n",
       "      <td>101835746.jpg</td>\n",
       "      <td>721</td>\n",
       "      <td>2000</td>\n",
       "      <td>[96.45608395181988, 133.24623398113232, 62.914...</td>\n",
       "      <td>20-30s</td>\n",
       "      <td>Caucasian</td>\n",
       "      <td>unmasked</td>\n",
       "      <td>light</td>\n",
       "      <td>Happiness</td>\n",
       "      <td>Female</td>\n",
       "    </tr>\n",
       "    <tr>\n",
       "      <th>105</th>\n",
       "      <td>101835746.jpg</td>\n",
       "      <td>721</td>\n",
       "      <td>2000</td>\n",
       "      <td>[1804.0009910403633, 127.23681305518419, 46.77...</td>\n",
       "      <td>20-30s</td>\n",
       "      <td>Caucasian</td>\n",
       "      <td>unmasked</td>\n",
       "      <td>light</td>\n",
       "      <td>Happiness</td>\n",
       "      <td>Female</td>\n",
       "    </tr>\n",
       "    <tr>\n",
       "      <th>...</th>\n",
       "      <td>...</td>\n",
       "      <td>...</td>\n",
       "      <td>...</td>\n",
       "      <td>...</td>\n",
       "      <td>...</td>\n",
       "      <td>...</td>\n",
       "      <td>...</td>\n",
       "      <td>...</td>\n",
       "      <td>...</td>\n",
       "      <td>...</td>\n",
       "    </tr>\n",
       "    <tr>\n",
       "      <th>13459</th>\n",
       "      <td>96834029.jpg</td>\n",
       "      <td>1216</td>\n",
       "      <td>2000</td>\n",
       "      <td>[882.8382838283792, 155.09362279511572, 80.858...</td>\n",
       "      <td>20-30s</td>\n",
       "      <td>Mongoloid</td>\n",
       "      <td>unmasked</td>\n",
       "      <td>light</td>\n",
       "      <td>Neutral</td>\n",
       "      <td>Female</td>\n",
       "    </tr>\n",
       "    <tr>\n",
       "      <th>13520</th>\n",
       "      <td>97706685.jpg</td>\n",
       "      <td>1662</td>\n",
       "      <td>2000</td>\n",
       "      <td>[942.8844025303049, 195.47889573665157, 112.17...</td>\n",
       "      <td>20-30s</td>\n",
       "      <td>Mongoloid</td>\n",
       "      <td>unmasked</td>\n",
       "      <td>light</td>\n",
       "      <td>Neutral</td>\n",
       "      <td>Female</td>\n",
       "    </tr>\n",
       "    <tr>\n",
       "      <th>13521</th>\n",
       "      <td>97706685.jpg</td>\n",
       "      <td>1662</td>\n",
       "      <td>2000</td>\n",
       "      <td>[1587.1144754729694, 289.52738221164367, 102.0...</td>\n",
       "      <td>20-30s</td>\n",
       "      <td>Mongoloid</td>\n",
       "      <td>unmasked</td>\n",
       "      <td>light</td>\n",
       "      <td>Neutral</td>\n",
       "      <td>Female</td>\n",
       "    </tr>\n",
       "    <tr>\n",
       "      <th>13635</th>\n",
       "      <td>99503096.jpg</td>\n",
       "      <td>1439</td>\n",
       "      <td>2000</td>\n",
       "      <td>[811.8666509579353, 189.6960732004206, 91.0221...</td>\n",
       "      <td>20-30s</td>\n",
       "      <td>Mongoloid</td>\n",
       "      <td>unmasked</td>\n",
       "      <td>light</td>\n",
       "      <td>Neutral</td>\n",
       "      <td>Female</td>\n",
       "    </tr>\n",
       "    <tr>\n",
       "      <th>13636</th>\n",
       "      <td>99503096.jpg</td>\n",
       "      <td>1439</td>\n",
       "      <td>2000</td>\n",
       "      <td>[1693.5068338121305, 186.37055417123528, 89.52...</td>\n",
       "      <td>20-30s</td>\n",
       "      <td>Mongoloid</td>\n",
       "      <td>unmasked</td>\n",
       "      <td>light</td>\n",
       "      <td>Neutral</td>\n",
       "      <td>Female</td>\n",
       "    </tr>\n",
       "  </tbody>\n",
       "</table>\n",
       "<p>310 rows × 10 columns</p>\n",
       "</div>"
      ],
      "text/plain": [
       "           file_name  height  width  \\\n",
       "101    101835746.jpg     721   2000   \n",
       "102    101835746.jpg     721   2000   \n",
       "103    101835746.jpg     721   2000   \n",
       "104    101835746.jpg     721   2000   \n",
       "105    101835746.jpg     721   2000   \n",
       "...              ...     ...    ...   \n",
       "13459   96834029.jpg    1216   2000   \n",
       "13520   97706685.jpg    1662   2000   \n",
       "13521   97706685.jpg    1662   2000   \n",
       "13635   99503096.jpg    1439   2000   \n",
       "13636   99503096.jpg    1439   2000   \n",
       "\n",
       "                                                    bbox     age       race  \\\n",
       "101    [1179.813401047065, 124.09557246908886, 49.807...  20-30s  Caucasian   \n",
       "102    [848.5984121871273, 118.49608682515225, 47.128...  20-30s  Caucasian   \n",
       "103    [470.56823253169784, 136.43311250673352, 46.29...  20-30s  Caucasian   \n",
       "104    [96.45608395181988, 133.24623398113232, 62.914...  20-30s  Caucasian   \n",
       "105    [1804.0009910403633, 127.23681305518419, 46.77...  20-30s  Caucasian   \n",
       "...                                                  ...     ...        ...   \n",
       "13459  [882.8382838283792, 155.09362279511572, 80.858...  20-30s  Mongoloid   \n",
       "13520  [942.8844025303049, 195.47889573665157, 112.17...  20-30s  Mongoloid   \n",
       "13521  [1587.1144754729694, 289.52738221164367, 102.0...  20-30s  Mongoloid   \n",
       "13635  [811.8666509579353, 189.6960732004206, 91.0221...  20-30s  Mongoloid   \n",
       "13636  [1693.5068338121305, 186.37055417123528, 89.52...  20-30s  Mongoloid   \n",
       "\n",
       "         masked skintone    emotion  gender  \n",
       "101    unmasked    light    Neutral  Female  \n",
       "102    unmasked    light  Happiness  Female  \n",
       "103    unmasked    light  Happiness  Female  \n",
       "104    unmasked    light  Happiness  Female  \n",
       "105    unmasked    light  Happiness  Female  \n",
       "...         ...      ...        ...     ...  \n",
       "13459  unmasked    light    Neutral  Female  \n",
       "13520  unmasked    light    Neutral  Female  \n",
       "13521  unmasked    light    Neutral  Female  \n",
       "13635  unmasked    light    Neutral  Female  \n",
       "13636  unmasked    light    Neutral  Female  \n",
       "\n",
       "[310 rows x 10 columns]"
      ]
     },
     "execution_count": 5,
     "metadata": {},
     "output_type": "execute_result"
    }
   ],
   "source": [
    "labels[labels['file_name'].duplicated() == True]"
   ]
  },
  {
   "cell_type": "code",
   "execution_count": 3,
   "metadata": {},
   "outputs": [
    {
     "data": {
      "text/html": [
       "<div>\n",
       "<style scoped>\n",
       "    .dataframe tbody tr th:only-of-type {\n",
       "        vertical-align: middle;\n",
       "    }\n",
       "\n",
       "    .dataframe tbody tr th {\n",
       "        vertical-align: top;\n",
       "    }\n",
       "\n",
       "    .dataframe thead th {\n",
       "        text-align: right;\n",
       "    }\n",
       "</style>\n",
       "<table border=\"1\" class=\"dataframe\">\n",
       "  <thead>\n",
       "    <tr style=\"text-align: right;\">\n",
       "      <th></th>\n",
       "      <th>file_name</th>\n",
       "      <th>height</th>\n",
       "      <th>width</th>\n",
       "      <th>bbox</th>\n",
       "      <th>age</th>\n",
       "      <th>race</th>\n",
       "      <th>masked</th>\n",
       "      <th>skintone</th>\n",
       "      <th>emotion</th>\n",
       "      <th>gender</th>\n",
       "    </tr>\n",
       "  </thead>\n",
       "  <tbody>\n",
       "    <tr>\n",
       "      <th>10326</th>\n",
       "      <td>78841225.jpg</td>\n",
       "      <td>334</td>\n",
       "      <td>2000</td>\n",
       "      <td>[1451.8501247926133, 118.1473426812662, 86.149...</td>\n",
       "      <td>20-30s</td>\n",
       "      <td>Caucasian</td>\n",
       "      <td>unmasked</td>\n",
       "      <td>light</td>\n",
       "      <td>Surprise</td>\n",
       "      <td>Female</td>\n",
       "    </tr>\n",
       "    <tr>\n",
       "      <th>10327</th>\n",
       "      <td>78841225.jpg</td>\n",
       "      <td>334</td>\n",
       "      <td>2000</td>\n",
       "      <td>[1782.2568443892778, 133.5637139843044, 81.472...</td>\n",
       "      <td>20-30s</td>\n",
       "      <td>Caucasian</td>\n",
       "      <td>unmasked</td>\n",
       "      <td>light</td>\n",
       "      <td>Happiness</td>\n",
       "      <td>Female</td>\n",
       "    </tr>\n",
       "    <tr>\n",
       "      <th>10328</th>\n",
       "      <td>78841225.jpg</td>\n",
       "      <td>334</td>\n",
       "      <td>2000</td>\n",
       "      <td>[121.37770145770496, 133.69833617409742, 84.49...</td>\n",
       "      <td>20-30s</td>\n",
       "      <td>Caucasian</td>\n",
       "      <td>unmasked</td>\n",
       "      <td>light</td>\n",
       "      <td>Surprise</td>\n",
       "      <td>Female</td>\n",
       "    </tr>\n",
       "    <tr>\n",
       "      <th>10329</th>\n",
       "      <td>78841225.jpg</td>\n",
       "      <td>334</td>\n",
       "      <td>2000</td>\n",
       "      <td>[451.8748474312531, 134.28959966892987, 84.846...</td>\n",
       "      <td>20-30s</td>\n",
       "      <td>Caucasian</td>\n",
       "      <td>unmasked</td>\n",
       "      <td>light</td>\n",
       "      <td>Fear</td>\n",
       "      <td>Female</td>\n",
       "    </tr>\n",
       "    <tr>\n",
       "      <th>10330</th>\n",
       "      <td>78841225.jpg</td>\n",
       "      <td>334</td>\n",
       "      <td>2000</td>\n",
       "      <td>[1126.7063656649839, 141.89909921787017, 84.27...</td>\n",
       "      <td>20-30s</td>\n",
       "      <td>Caucasian</td>\n",
       "      <td>unmasked</td>\n",
       "      <td>light</td>\n",
       "      <td>Fear</td>\n",
       "      <td>Female</td>\n",
       "    </tr>\n",
       "  </tbody>\n",
       "</table>\n",
       "</div>"
      ],
      "text/plain": [
       "          file_name  height  width  \\\n",
       "10326  78841225.jpg     334   2000   \n",
       "10327  78841225.jpg     334   2000   \n",
       "10328  78841225.jpg     334   2000   \n",
       "10329  78841225.jpg     334   2000   \n",
       "10330  78841225.jpg     334   2000   \n",
       "\n",
       "                                                    bbox     age       race  \\\n",
       "10326  [1451.8501247926133, 118.1473426812662, 86.149...  20-30s  Caucasian   \n",
       "10327  [1782.2568443892778, 133.5637139843044, 81.472...  20-30s  Caucasian   \n",
       "10328  [121.37770145770496, 133.69833617409742, 84.49...  20-30s  Caucasian   \n",
       "10329  [451.8748474312531, 134.28959966892987, 84.846...  20-30s  Caucasian   \n",
       "10330  [1126.7063656649839, 141.89909921787017, 84.27...  20-30s  Caucasian   \n",
       "\n",
       "         masked skintone    emotion  gender  \n",
       "10326  unmasked    light   Surprise  Female  \n",
       "10327  unmasked    light  Happiness  Female  \n",
       "10328  unmasked    light   Surprise  Female  \n",
       "10329  unmasked    light       Fear  Female  \n",
       "10330  unmasked    light       Fear  Female  "
      ]
     },
     "execution_count": 3,
     "metadata": {},
     "output_type": "execute_result"
    }
   ],
   "source": [
    "labels[labels.file_name == \"78841225.jpg\"]"
   ]
  },
  {
   "cell_type": "code",
   "execution_count": 5,
   "metadata": {},
   "outputs": [
    {
     "ename": "",
     "evalue": "",
     "output_type": "error",
     "traceback": [
      "\u001b[1;31mThe Kernel crashed while executing code in the the current cell or a previous cell. Please review the code in the cell(s) to identify a possible cause of the failure. Click <a href='https://aka.ms/vscodeJupyterKernelCrash'>here</a> for more info. View Jupyter <a href='command:jupyter.viewOutput'>log</a> for further details."
     ]
    }
   ],
   "source": [
    "for i in range(10326, 10331):\n",
    "    bbox = labels.iloc[i, 3]\n",
    "    bbox = np.array(bbox[1:-1].split(\", \"), dtype=np.float32)\n",
    "    bbox = bbox.astype(np.int16)\n",
    "    image = cv2.imread(r\"E:\\Pixta Hackathon\\dataset\\unmasked_300\\Caucasian\\78841225.jpg\")\n",
    "    image = cv2.rectangle(image, (bbox[0], bbox[1]), (bbox[0] + bbox[2], bbox[1] + bbox[3]), (255, 255, 0), 2)\n",
    "    cv2.imwrite(f'face{i}.png', image)"
   ]
  },
  {
   "cell_type": "code",
   "execution_count": 79,
   "metadata": {},
   "outputs": [],
   "source": [
    "bbox = labels.iloc[101, 3]"
   ]
  },
  {
   "cell_type": "code",
   "execution_count": 80,
   "metadata": {},
   "outputs": [],
   "source": [
    "bbox = np.array(bbox[1:-1].split(\", \"), dtype=np.float32)\n",
    "bbox = bbox.astype(np.int16)"
   ]
  },
  {
   "cell_type": "code",
   "execution_count": 81,
   "metadata": {},
   "outputs": [
    {
     "data": {
      "text/plain": [
       "array([1179,  124,   49,   72], dtype=int16)"
      ]
     },
     "execution_count": 81,
     "metadata": {},
     "output_type": "execute_result"
    }
   ],
   "source": [
    "bbox"
   ]
  },
  {
   "cell_type": "code",
   "execution_count": 82,
   "metadata": {},
   "outputs": [],
   "source": [
    "image = labels.iloc[101, 0]"
   ]
  },
  {
   "cell_type": "code",
   "execution_count": 83,
   "metadata": {},
   "outputs": [],
   "source": [
    "image = cv2.imread(\"./mnt/md0/projects/sami-hackathon/private/data/101835746.jpg\")"
   ]
  },
  {
   "cell_type": "code",
   "execution_count": 84,
   "metadata": {},
   "outputs": [],
   "source": [
    "image = cv2.rectangle(image, (bbox[0], bbox[1]), (bbox[0] + bbox[2], bbox[1] + bbox[3]), (255, 255, 0), 2)"
   ]
  },
  {
   "cell_type": "code",
   "execution_count": 85,
   "metadata": {},
   "outputs": [
    {
     "data": {
      "text/plain": [
       "(721, 2000, 3)"
      ]
     },
     "execution_count": 85,
     "metadata": {},
     "output_type": "execute_result"
    }
   ],
   "source": [
    "image.shape"
   ]
  },
  {
   "cell_type": "code",
   "execution_count": 78,
   "metadata": {},
   "outputs": [
    {
     "data": {
      "text/plain": [
       "True"
      ]
     },
     "execution_count": 78,
     "metadata": {},
     "output_type": "execute_result"
    }
   ],
   "source": [
    "cv2.imwrite('face.png', image)"
   ]
  },
  {
   "cell_type": "code",
   "execution_count": 20,
   "metadata": {},
   "outputs": [
    {
     "data": {
      "text/plain": [
       "masked\n",
       "unmasked    14806\n",
       "masked        504\n",
       "Name: count, dtype: int64"
      ]
     },
     "execution_count": 20,
     "metadata": {},
     "output_type": "execute_result"
    }
   ],
   "source": [
    "labels['masked'].value_counts()"
   ]
  },
  {
   "cell_type": "code",
   "execution_count": 22,
   "metadata": {},
   "outputs": [],
   "source": [
    "for index, row in labels.iterrows():\n",
    "    masked = row['masked']\n",
    "    if masked == \"masked\":\n",
    "        image = cv2.imread(os.path.join(\"./mnt/md0/projects/sami-hackathon/private/data/\", row['file_name']))\n",
    "        cv2.imwrite(os.path.join(\"./masked/\", row['file_name']), image)"
   ]
  },
  {
   "cell_type": "code",
   "execution_count": 40,
   "metadata": {},
   "outputs": [],
   "source": [
    "def get_ratio(row):\n",
    "    ratio = int(row['height'])/int(row['width'])\n",
    "    return row"
   ]
  },
  {
   "cell_type": "code",
   "execution_count": 45,
   "metadata": {},
   "outputs": [
    {
     "data": {
      "text/html": [
       "<div>\n",
       "<style scoped>\n",
       "    .dataframe tbody tr th:only-of-type {\n",
       "        vertical-align: middle;\n",
       "    }\n",
       "\n",
       "    .dataframe tbody tr th {\n",
       "        vertical-align: top;\n",
       "    }\n",
       "\n",
       "    .dataframe thead th {\n",
       "        text-align: right;\n",
       "    }\n",
       "</style>\n",
       "<table border=\"1\" class=\"dataframe\">\n",
       "  <thead>\n",
       "    <tr style=\"text-align: right;\">\n",
       "      <th></th>\n",
       "      <th>file_name</th>\n",
       "      <th>height</th>\n",
       "      <th>width</th>\n",
       "      <th>bbox</th>\n",
       "      <th>age</th>\n",
       "      <th>race</th>\n",
       "      <th>masked</th>\n",
       "      <th>skintone</th>\n",
       "      <th>emotion</th>\n",
       "      <th>gender</th>\n",
       "    </tr>\n",
       "  </thead>\n",
       "  <tbody>\n",
       "    <tr>\n",
       "      <th>0</th>\n",
       "      <td>100013282.jpg</td>\n",
       "      <td>1333</td>\n",
       "      <td>2000</td>\n",
       "      <td>[934.0000000000097, 144.82228672769534, 238.24...</td>\n",
       "      <td>20-30s</td>\n",
       "      <td>Caucasian</td>\n",
       "      <td>unmasked</td>\n",
       "      <td>mid-light</td>\n",
       "      <td>Neutral</td>\n",
       "      <td>Male</td>\n",
       "    </tr>\n",
       "    <tr>\n",
       "      <th>1</th>\n",
       "      <td>100016175.jpg</td>\n",
       "      <td>1333</td>\n",
       "      <td>2000</td>\n",
       "      <td>[1094.0513571635438, 422.91772295627203, 55.45...</td>\n",
       "      <td>20-30s</td>\n",
       "      <td>Caucasian</td>\n",
       "      <td>unmasked</td>\n",
       "      <td>light</td>\n",
       "      <td>Neutral</td>\n",
       "      <td>Male</td>\n",
       "    </tr>\n",
       "    <tr>\n",
       "      <th>2</th>\n",
       "      <td>10004189.jpg</td>\n",
       "      <td>2000</td>\n",
       "      <td>1333</td>\n",
       "      <td>[419.93871061403877, 269.1250391680045, 377.19...</td>\n",
       "      <td>20-30s</td>\n",
       "      <td>Mongoloid</td>\n",
       "      <td>unmasked</td>\n",
       "      <td>light</td>\n",
       "      <td>Happiness</td>\n",
       "      <td>Female</td>\n",
       "    </tr>\n",
       "    <tr>\n",
       "      <th>3</th>\n",
       "      <td>100104575.jpg</td>\n",
       "      <td>1333</td>\n",
       "      <td>2000</td>\n",
       "      <td>[1490.6909678848915, 676.0000000000097, 37.553...</td>\n",
       "      <td>20-30s</td>\n",
       "      <td>Caucasian</td>\n",
       "      <td>unmasked</td>\n",
       "      <td>mid-light</td>\n",
       "      <td>Neutral</td>\n",
       "      <td>Male</td>\n",
       "    </tr>\n",
       "    <tr>\n",
       "      <th>4</th>\n",
       "      <td>100104600.jpg</td>\n",
       "      <td>2000</td>\n",
       "      <td>1333</td>\n",
       "      <td>[549.169724453414, 92.52040334013152, 306.8821...</td>\n",
       "      <td>20-30s</td>\n",
       "      <td>Caucasian</td>\n",
       "      <td>unmasked</td>\n",
       "      <td>mid-light</td>\n",
       "      <td>Happiness</td>\n",
       "      <td>Female</td>\n",
       "    </tr>\n",
       "  </tbody>\n",
       "</table>\n",
       "</div>"
      ],
      "text/plain": [
       "       file_name  height  width  \\\n",
       "0  100013282.jpg    1333   2000   \n",
       "1  100016175.jpg    1333   2000   \n",
       "2   10004189.jpg    2000   1333   \n",
       "3  100104575.jpg    1333   2000   \n",
       "4  100104600.jpg    2000   1333   \n",
       "\n",
       "                                                bbox     age       race  \\\n",
       "0  [934.0000000000097, 144.82228672769534, 238.24...  20-30s  Caucasian   \n",
       "1  [1094.0513571635438, 422.91772295627203, 55.45...  20-30s  Caucasian   \n",
       "2  [419.93871061403877, 269.1250391680045, 377.19...  20-30s  Mongoloid   \n",
       "3  [1490.6909678848915, 676.0000000000097, 37.553...  20-30s  Caucasian   \n",
       "4  [549.169724453414, 92.52040334013152, 306.8821...  20-30s  Caucasian   \n",
       "\n",
       "     masked   skintone    emotion  gender  \n",
       "0  unmasked  mid-light    Neutral    Male  \n",
       "1  unmasked      light    Neutral    Male  \n",
       "2  unmasked      light  Happiness  Female  \n",
       "3  unmasked  mid-light    Neutral    Male  \n",
       "4  unmasked  mid-light  Happiness  Female  "
      ]
     },
     "execution_count": 45,
     "metadata": {},
     "output_type": "execute_result"
    }
   ],
   "source": [
    "labels.head()"
   ]
  },
  {
   "cell_type": "code",
   "execution_count": 47,
   "metadata": {},
   "outputs": [],
   "source": [
    "labels['ratio'] = labels['height']/labels['width']"
   ]
  },
  {
   "cell_type": "code",
   "execution_count": 48,
   "metadata": {},
   "outputs": [],
   "source": [
    "labels['ratio'] = round(labels['ratio'], 3)"
   ]
  },
  {
   "cell_type": "code",
   "execution_count": 49,
   "metadata": {},
   "outputs": [
    {
     "data": {
      "text/plain": [
       "ratio\n",
       "0.666    6956\n",
       "1.500    2294\n",
       "1.000    1758\n",
       "0.667     910\n",
       "0.668     354\n",
       "         ... \n",
       "1.344       1\n",
       "0.583       1\n",
       "0.768       1\n",
       "0.835       1\n",
       "1.010       1\n",
       "Name: count, Length: 569, dtype: int64"
      ]
     },
     "execution_count": 49,
     "metadata": {},
     "output_type": "execute_result"
    }
   ],
   "source": [
    "labels.ratio.value_counts()"
   ]
  },
  {
   "cell_type": "code",
   "execution_count": null,
   "metadata": {},
   "outputs": [],
   "source": []
  }
 ],
 "metadata": {
  "kernelspec": {
   "display_name": "Pixta",
   "language": "python",
   "name": "python3"
  },
  "language_info": {
   "codemirror_mode": {
    "name": "ipython",
    "version": 3
   },
   "file_extension": ".py",
   "mimetype": "text/x-python",
   "name": "python",
   "nbconvert_exporter": "python",
   "pygments_lexer": "ipython3",
   "version": "3.9.18"
  }
 },
 "nbformat": 4,
 "nbformat_minor": 2
}
