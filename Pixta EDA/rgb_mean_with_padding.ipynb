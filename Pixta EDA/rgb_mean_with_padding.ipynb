{
 "cells": [
  {
   "cell_type": "code",
   "execution_count": 1,
   "metadata": {},
   "outputs": [],
   "source": [
    "import pandas as pd\n",
    "import cv2\n",
    "import glob\n",
    "import os\n",
    "import numpy as np"
   ]
  },
  {
   "cell_type": "code",
   "execution_count": 2,
   "metadata": {},
   "outputs": [],
   "source": [
    "def bbox_convert(row):\n",
    "    bbox = np.array(row[1:-1].split(\", \"), dtype=np.float32)\n",
    "    bbox = bbox.astype(np.int16)\n",
    "    return bbox"
   ]
  },
  {
   "cell_type": "code",
   "execution_count": 3,
   "metadata": {},
   "outputs": [],
   "source": [
    "def RGB_extract(image):\n",
    "    B = 0\n",
    "    G = 0\n",
    "    R = 0\n",
    "    for x in range(image.shape[0]):\n",
    "        for y in range(image.shape[1]):\n",
    "            B += image[x, y, 0]\n",
    "            G += image[x, y, 1]\n",
    "            R += image[x, y, 2]\n",
    "    pixels = image.shape[0] * image.shape[1]\n",
    "    return f\"{int(B/pixels)}, {int(G/pixels)}, {int(R/pixels)}\""
   ]
  },
  {
   "cell_type": "code",
   "execution_count": 4,
   "metadata": {},
   "outputs": [],
   "source": [
    "labels = pd.read_csv(\"Fking_final_labels.csv\")"
   ]
  },
  {
   "cell_type": "code",
   "execution_count": 17,
   "metadata": {},
   "outputs": [],
   "source": [
    "row = labels[labels.file_name == \"100689967.jpg\"]"
   ]
  },
  {
   "cell_type": "code",
   "execution_count": 23,
   "metadata": {},
   "outputs": [
    {
     "data": {
      "text/plain": [
       "'100689967.jpg'"
      ]
     },
     "execution_count": 23,
     "metadata": {},
     "output_type": "execute_result"
    }
   ],
   "source": [
    "row['file_name'].values[0]"
   ]
  },
  {
   "cell_type": "code",
   "execution_count": 31,
   "metadata": {},
   "outputs": [],
   "source": [
    "filename = row['file_name'].values[0]\n",
    "image = cv2.imread(os.path.join(\"./mnt/md0/projects/sami-hackathon/private/data/\", filename))\n",
    "bbox = bbox_convert(row['bbox'].values[0])\n",
    "face_mean = image[bbox[1]:bbox[1]+bbox[3], bbox[0]:bbox[0]+bbox[2]]\n",
    "cv2.rectangle(image, (bbox[0], bbox[1]), (bbox[0] + bbox[2], bbox[1] + bbox[3]), (0, 0, 0), -1)\n",
    "padding_mean = image[bbox[1] - 50 if bbox[1] > 50 else 0 :bbox[1] + bbox[3] + 50 if bbox[1] + bbox[3] < image.shape[0] else 0, bbox[0] - 50 if bbox[0] > 50 else 0 : bbox[0] + bbox[2] + 50 if bbox[0] + bbox[2] < image.shape[1] else 0]"
   ]
  },
  {
   "cell_type": "code",
   "execution_count": 32,
   "metadata": {},
   "outputs": [
    {
     "data": {
      "text/plain": [
       "array([[[ 18,  28,  45],\n",
       "        [ 34,  42,  55],\n",
       "        [ 50,  53,  57],\n",
       "        ...,\n",
       "        [  0,   0,   0],\n",
       "        [  0,   0,   0],\n",
       "        [  0,   0,   0]],\n",
       "\n",
       "       [[ 32,  40,  57],\n",
       "        [ 75,  82,  99],\n",
       "        [ 55,  58,  63],\n",
       "        ...,\n",
       "        [  0,   0,   0],\n",
       "        [  0,   0,   0],\n",
       "        [  0,   0,   0]],\n",
       "\n",
       "       [[ 62,  70,  87],\n",
       "        [ 89,  97, 110],\n",
       "        [ 49,  52,  57],\n",
       "        ...,\n",
       "        [  0,   0,   0],\n",
       "        [  0,   0,   0],\n",
       "        [  0,   0,   0]],\n",
       "\n",
       "       ...,\n",
       "\n",
       "       [[  8,  22,  64],\n",
       "        [ 10,  23,  67],\n",
       "        [ 14,  29,  75],\n",
       "        ...,\n",
       "        [  0,   0,   0],\n",
       "        [  0,   0,   0],\n",
       "        [  0,   0,   0]],\n",
       "\n",
       "       [[ 10,  23,  67],\n",
       "        [  9,  22,  66],\n",
       "        [ 10,  23,  69],\n",
       "        ...,\n",
       "        [  0,   0,   0],\n",
       "        [  0,   0,   0],\n",
       "        [  0,   0,   0]],\n",
       "\n",
       "       [[  9,  22,  66],\n",
       "        [  8,  21,  65],\n",
       "        [  8,  21,  65],\n",
       "        ...,\n",
       "        [  0,   0,   0],\n",
       "        [  0,   0,   0],\n",
       "        [  0,   0,   0]]], dtype=uint8)"
      ]
     },
     "execution_count": 32,
     "metadata": {},
     "output_type": "execute_result"
    }
   ],
   "source": [
    "padding_mean"
   ]
  },
  {
   "cell_type": "code",
   "execution_count": 33,
   "metadata": {},
   "outputs": [
    {
     "data": {
      "text/plain": [
       "True"
      ]
     },
     "execution_count": 33,
     "metadata": {},
     "output_type": "execute_result"
    }
   ],
   "source": [
    "cv2.imwrite(\"pic.jpg\", padding_mean)"
   ]
  },
  {
   "cell_type": "code",
   "execution_count": 8,
   "metadata": {},
   "outputs": [
    {
     "data": {
      "text/plain": [
       "'29, 37, 44'"
      ]
     },
     "execution_count": 8,
     "metadata": {},
     "output_type": "execute_result"
    }
   ],
   "source": [
    "RGB_extract(padding_mean)"
   ]
  },
  {
   "cell_type": "code",
   "execution_count": 42,
   "metadata": {},
   "outputs": [],
   "source": [
    "def addRGBMeantodf(row):\n",
    "\n",
    "    filename = row['file_name']\n",
    "    image = cv2.imread(os.path.join(\"./mnt/md0/projects/sami-hackathon/private/data/\", filename))\n",
    "    bbox = bbox_convert(row['bbox'])\n",
    "    face_mean = image[bbox[1]:bbox[1]+bbox[3], bbox[0]:bbox[0]+bbox[2]]\n",
    "    padding_mean = image[bbox[1] - 50 if bbox[1] > 50 else 0 :bbox[1] + bbox[3] + 50 if bbox[1] + bbox[3] < image.shape[0] else 0, bbox[0] - 50 if bbox[0] > 50 else 0 : bbox[0] + bbox[2] + 50 if bbox[0] + bbox[2] < image.shape[1] else 0]\n",
    "\n",
    "    face_mean = RGB_extract(face_mean)\n",
    "    cv2.rectangle(image, (bbox[0], bbox[1]), (bbox[0] + bbox[2], bbox[1] + bbox[3]), (0, 0, 0), -1)\n",
    "    padding_mean = RGB_extract(padding_mean)\n",
    "    return face_mean, padding_mean\n"
   ]
  },
  {
   "cell_type": "code",
   "execution_count": 43,
   "metadata": {},
   "outputs": [
    {
     "name": "stdout",
     "output_type": "stream",
     "text": [
      "1145376.jpg\n",
      "62228563.jpg\n",
      "79754536.jpg\n",
      "996439.jpg\n"
     ]
    }
   ],
   "source": [
    "labels[\"RGB Mean\"] = labels.apply(lambda row: addRGBMeantodf(row)[0], axis=1)"
   ]
  },
  {
   "cell_type": "code",
   "execution_count": 44,
   "metadata": {},
   "outputs": [
    {
     "name": "stdout",
     "output_type": "stream",
     "text": [
      "1145376.jpg\n",
      "62228563.jpg\n",
      "79754536.jpg\n",
      "996439.jpg\n"
     ]
    }
   ],
   "source": [
    "labels[\"Regional RGB Mean\"] = labels.apply(lambda row: addRGBMeantodf(row)[1], axis=1)"
   ]
  },
  {
   "cell_type": "code",
   "execution_count": 45,
   "metadata": {},
   "outputs": [
    {
     "data": {
      "text/html": [
       "<div>\n",
       "<style scoped>\n",
       "    .dataframe tbody tr th:only-of-type {\n",
       "        vertical-align: middle;\n",
       "    }\n",
       "\n",
       "    .dataframe tbody tr th {\n",
       "        vertical-align: top;\n",
       "    }\n",
       "\n",
       "    .dataframe thead th {\n",
       "        text-align: right;\n",
       "    }\n",
       "</style>\n",
       "<table border=\"1\" class=\"dataframe\">\n",
       "  <thead>\n",
       "    <tr style=\"text-align: right;\">\n",
       "      <th></th>\n",
       "      <th>file_name</th>\n",
       "      <th>height</th>\n",
       "      <th>width</th>\n",
       "      <th>bbox</th>\n",
       "      <th>age</th>\n",
       "      <th>race</th>\n",
       "      <th>masked</th>\n",
       "      <th>skintone</th>\n",
       "      <th>emotion</th>\n",
       "      <th>gender</th>\n",
       "      <th>RGB Mean</th>\n",
       "      <th>Regional RGB Mean</th>\n",
       "    </tr>\n",
       "  </thead>\n",
       "  <tbody>\n",
       "    <tr>\n",
       "      <th>0</th>\n",
       "      <td>100013282.jpg</td>\n",
       "      <td>1333</td>\n",
       "      <td>2000</td>\n",
       "      <td>[934.0000000000097, 144.82228672769534, 238.24...</td>\n",
       "      <td>20-30s</td>\n",
       "      <td>Caucasian</td>\n",
       "      <td>unmasked</td>\n",
       "      <td>mid-light</td>\n",
       "      <td>Neutral</td>\n",
       "      <td>Male</td>\n",
       "      <td>97, 120, 154</td>\n",
       "      <td>168, 175, 183</td>\n",
       "    </tr>\n",
       "    <tr>\n",
       "      <th>1</th>\n",
       "      <td>100016175.jpg</td>\n",
       "      <td>1333</td>\n",
       "      <td>2000</td>\n",
       "      <td>[1094.0513571635438, 422.91772295627203, 55.45...</td>\n",
       "      <td>20-30s</td>\n",
       "      <td>Caucasian</td>\n",
       "      <td>unmasked</td>\n",
       "      <td>light</td>\n",
       "      <td>Neutral</td>\n",
       "      <td>Male</td>\n",
       "      <td>58, 71, 94</td>\n",
       "      <td>58, 59, 61</td>\n",
       "    </tr>\n",
       "    <tr>\n",
       "      <th>2</th>\n",
       "      <td>10004189.jpg</td>\n",
       "      <td>2000</td>\n",
       "      <td>1333</td>\n",
       "      <td>[419.93871061403877, 269.1250391680045, 377.19...</td>\n",
       "      <td>20-30s</td>\n",
       "      <td>Mongoloid</td>\n",
       "      <td>unmasked</td>\n",
       "      <td>light</td>\n",
       "      <td>Happiness</td>\n",
       "      <td>Female</td>\n",
       "      <td>150, 157, 200</td>\n",
       "      <td>228, 230, 237</td>\n",
       "    </tr>\n",
       "    <tr>\n",
       "      <th>3</th>\n",
       "      <td>100104575.jpg</td>\n",
       "      <td>1333</td>\n",
       "      <td>2000</td>\n",
       "      <td>[1490.6909678848915, 676.0000000000097, 37.553...</td>\n",
       "      <td>20-30s</td>\n",
       "      <td>Caucasian</td>\n",
       "      <td>unmasked</td>\n",
       "      <td>mid-light</td>\n",
       "      <td>Neutral</td>\n",
       "      <td>Male</td>\n",
       "      <td>137, 153, 176</td>\n",
       "      <td>201, 203, 205</td>\n",
       "    </tr>\n",
       "    <tr>\n",
       "      <th>4</th>\n",
       "      <td>100104600.jpg</td>\n",
       "      <td>2000</td>\n",
       "      <td>1333</td>\n",
       "      <td>[549.169724453414, 92.52040334013152, 306.8821...</td>\n",
       "      <td>20-30s</td>\n",
       "      <td>Caucasian</td>\n",
       "      <td>unmasked</td>\n",
       "      <td>mid-light</td>\n",
       "      <td>Happiness</td>\n",
       "      <td>Female</td>\n",
       "      <td>106, 117, 137</td>\n",
       "      <td>180, 182, 185</td>\n",
       "    </tr>\n",
       "  </tbody>\n",
       "</table>\n",
       "</div>"
      ],
      "text/plain": [
       "       file_name  height  width  \\\n",
       "0  100013282.jpg    1333   2000   \n",
       "1  100016175.jpg    1333   2000   \n",
       "2   10004189.jpg    2000   1333   \n",
       "3  100104575.jpg    1333   2000   \n",
       "4  100104600.jpg    2000   1333   \n",
       "\n",
       "                                                bbox     age       race  \\\n",
       "0  [934.0000000000097, 144.82228672769534, 238.24...  20-30s  Caucasian   \n",
       "1  [1094.0513571635438, 422.91772295627203, 55.45...  20-30s  Caucasian   \n",
       "2  [419.93871061403877, 269.1250391680045, 377.19...  20-30s  Mongoloid   \n",
       "3  [1490.6909678848915, 676.0000000000097, 37.553...  20-30s  Caucasian   \n",
       "4  [549.169724453414, 92.52040334013152, 306.8821...  20-30s  Caucasian   \n",
       "\n",
       "     masked   skintone    emotion  gender       RGB Mean Regional RGB Mean  \n",
       "0  unmasked  mid-light    Neutral    Male   97, 120, 154     168, 175, 183  \n",
       "1  unmasked      light    Neutral    Male     58, 71, 94        58, 59, 61  \n",
       "2  unmasked      light  Happiness  Female  150, 157, 200     228, 230, 237  \n",
       "3  unmasked  mid-light    Neutral    Male  137, 153, 176     201, 203, 205  \n",
       "4  unmasked  mid-light  Happiness  Female  106, 117, 137     180, 182, 185  "
      ]
     },
     "execution_count": 45,
     "metadata": {},
     "output_type": "execute_result"
    }
   ],
   "source": [
    "labels.head()\n"
   ]
  },
  {
   "cell_type": "code",
   "execution_count": 46,
   "metadata": {},
   "outputs": [],
   "source": [
    "labels.to_csv(\"Fking_final_labels.csv\")"
   ]
  },
  {
   "cell_type": "markdown",
   "metadata": {},
   "source": []
  },
  {
   "cell_type": "code",
   "execution_count": 27,
   "metadata": {},
   "outputs": [],
   "source": [
    "for index, row in labels.iterrows():\n",
    "    filename = row['file_name']\n",
    "    image = cv2.imread(os.path.join(\"./mnt/md0/projects/sami-hackathon/private/data/\", filename))\n",
    "    bbox = bbox_convert(row['bbox'])\n",
    "    face_mean = image[bbox[1]:bbox[1]+bbox[3], bbox[0]:bbox[0]+bbox[2]]\n",
    "    (h, w) = face_mean.shape[:2]\n",
    "    (cX, cY) = (w // 2, h // 2)\n",
    "    topLeft = face_mean[0:cY, 0:cX]\n",
    "    topRight = face_mean[0:cY, cX:w]\n",
    "    bottomLeft = face_mean[cY:h, 0:cX]\n",
    "    bottomRight = face_mean[cY:h, cX:w]\n",
    "    cv2.imwrite(f\"topLeft.jpg\", topLeft)\n",
    "    cv2.imwrite(f\"topRight.jpg\", topRight)\n",
    "    cv2.imwrite(f\"bottomLeft.jpg\", bottomLeft)\n",
    "    cv2.imwrite(f\"bottomRight.jpg\", bottomRight)\n",
    "    break\n",
    "    "
   ]
  },
  {
   "cell_type": "code",
   "execution_count": 12,
   "metadata": {},
   "outputs": [],
   "source": [
    "row = labels.iloc[0]"
   ]
  },
  {
   "cell_type": "code",
   "execution_count": 28,
   "metadata": {},
   "outputs": [],
   "source": [
    "def four_region_mean(row):\n",
    "    filename = row['file_name']\n",
    "    image = cv2.imread(os.path.join(\"./mnt/md0/projects/sami-hackathon/private/data/\", filename))\n",
    "    bbox = bbox_convert(row['bbox'])\n",
    "    face_mean = image[bbox[1]:bbox[1]+bbox[3], bbox[0]:bbox[0]+bbox[2]]\n",
    "    (h, w) = face_mean.shape[:2]\n",
    "    (cX, cY) = (w // 2, h // 2)\n",
    "    topLeft = face_mean[0:cY, 0:cX] #1\n",
    "    topRight = face_mean[0:cY, cX:w] #2\n",
    "    bottomLeft = face_mean[cY:h, 0:cX] #3  \n",
    "    bottomRight = face_mean[cY:h, cX:w] #4\n",
    "    part1 = RGB_extract(topLeft)\n",
    "    part2 = RGB_extract(topRight)\n",
    "    part3 = RGB_extract(bottomLeft)\n",
    "    part4 = RGB_extract(bottomRight)\n",
    "    return part1, part2, part3, part4\n"
   ]
  },
  {
   "cell_type": "code",
   "execution_count": 29,
   "metadata": {},
   "outputs": [],
   "source": [
    "labels[['region1', 'region2', 'region3', 'region4']] = labels.apply(four_region_mean, axis=1, result_type='expand')"
   ]
  },
  {
   "cell_type": "code",
   "execution_count": 30,
   "metadata": {},
   "outputs": [
    {
     "data": {
      "text/html": [
       "<div>\n",
       "<style scoped>\n",
       "    .dataframe tbody tr th:only-of-type {\n",
       "        vertical-align: middle;\n",
       "    }\n",
       "\n",
       "    .dataframe tbody tr th {\n",
       "        vertical-align: top;\n",
       "    }\n",
       "\n",
       "    .dataframe thead th {\n",
       "        text-align: right;\n",
       "    }\n",
       "</style>\n",
       "<table border=\"1\" class=\"dataframe\">\n",
       "  <thead>\n",
       "    <tr style=\"text-align: right;\">\n",
       "      <th></th>\n",
       "      <th>file_name</th>\n",
       "      <th>height</th>\n",
       "      <th>width</th>\n",
       "      <th>bbox</th>\n",
       "      <th>age</th>\n",
       "      <th>race</th>\n",
       "      <th>masked</th>\n",
       "      <th>skintone</th>\n",
       "      <th>emotion</th>\n",
       "      <th>gender</th>\n",
       "      <th>RGB Mean</th>\n",
       "      <th>Regional RGB Mean</th>\n",
       "      <th>region1</th>\n",
       "      <th>region2</th>\n",
       "      <th>region3</th>\n",
       "      <th>region4</th>\n",
       "    </tr>\n",
       "  </thead>\n",
       "  <tbody>\n",
       "    <tr>\n",
       "      <th>0</th>\n",
       "      <td>100013282.jpg</td>\n",
       "      <td>1333</td>\n",
       "      <td>2000</td>\n",
       "      <td>[934.0000000000097, 144.82228672769534, 238.24...</td>\n",
       "      <td>20-30s</td>\n",
       "      <td>Caucasian</td>\n",
       "      <td>unmasked</td>\n",
       "      <td>mid-light</td>\n",
       "      <td>Neutral</td>\n",
       "      <td>Male</td>\n",
       "      <td>97, 120, 154</td>\n",
       "      <td>168, 175, 183</td>\n",
       "      <td>51, 73, 106</td>\n",
       "      <td>139, 160, 188</td>\n",
       "      <td>72, 100, 141</td>\n",
       "      <td>125, 147, 183</td>\n",
       "    </tr>\n",
       "    <tr>\n",
       "      <th>1</th>\n",
       "      <td>100016175.jpg</td>\n",
       "      <td>1333</td>\n",
       "      <td>2000</td>\n",
       "      <td>[1094.0513571635438, 422.91772295627203, 55.45...</td>\n",
       "      <td>20-30s</td>\n",
       "      <td>Caucasian</td>\n",
       "      <td>unmasked</td>\n",
       "      <td>light</td>\n",
       "      <td>Neutral</td>\n",
       "      <td>Male</td>\n",
       "      <td>58, 71, 94</td>\n",
       "      <td>58, 59, 61</td>\n",
       "      <td>90, 106, 133</td>\n",
       "      <td>62, 74, 97</td>\n",
       "      <td>59, 75, 102</td>\n",
       "      <td>25, 33, 46</td>\n",
       "    </tr>\n",
       "    <tr>\n",
       "      <th>2</th>\n",
       "      <td>10004189.jpg</td>\n",
       "      <td>2000</td>\n",
       "      <td>1333</td>\n",
       "      <td>[419.93871061403877, 269.1250391680045, 377.19...</td>\n",
       "      <td>20-30s</td>\n",
       "      <td>Mongoloid</td>\n",
       "      <td>unmasked</td>\n",
       "      <td>light</td>\n",
       "      <td>Happiness</td>\n",
       "      <td>Female</td>\n",
       "      <td>150, 157, 200</td>\n",
       "      <td>228, 230, 237</td>\n",
       "      <td>68, 81, 133</td>\n",
       "      <td>141, 150, 194</td>\n",
       "      <td>203, 206, 233</td>\n",
       "      <td>188, 190, 238</td>\n",
       "    </tr>\n",
       "    <tr>\n",
       "      <th>3</th>\n",
       "      <td>100104575.jpg</td>\n",
       "      <td>1333</td>\n",
       "      <td>2000</td>\n",
       "      <td>[1490.6909678848915, 676.0000000000097, 37.553...</td>\n",
       "      <td>20-30s</td>\n",
       "      <td>Caucasian</td>\n",
       "      <td>unmasked</td>\n",
       "      <td>mid-light</td>\n",
       "      <td>Neutral</td>\n",
       "      <td>Male</td>\n",
       "      <td>137, 153, 176</td>\n",
       "      <td>201, 203, 205</td>\n",
       "      <td>164, 180, 203</td>\n",
       "      <td>71, 89, 118</td>\n",
       "      <td>220, 226, 236</td>\n",
       "      <td>100, 122, 152</td>\n",
       "    </tr>\n",
       "    <tr>\n",
       "      <th>4</th>\n",
       "      <td>100104600.jpg</td>\n",
       "      <td>2000</td>\n",
       "      <td>1333</td>\n",
       "      <td>[549.169724453414, 92.52040334013152, 306.8821...</td>\n",
       "      <td>20-30s</td>\n",
       "      <td>Caucasian</td>\n",
       "      <td>unmasked</td>\n",
       "      <td>mid-light</td>\n",
       "      <td>Happiness</td>\n",
       "      <td>Female</td>\n",
       "      <td>106, 117, 137</td>\n",
       "      <td>180, 182, 185</td>\n",
       "      <td>35, 41, 52</td>\n",
       "      <td>157, 169, 190</td>\n",
       "      <td>60, 75, 103</td>\n",
       "      <td>174, 181, 202</td>\n",
       "    </tr>\n",
       "  </tbody>\n",
       "</table>\n",
       "</div>"
      ],
      "text/plain": [
       "       file_name  height  width  \\\n",
       "0  100013282.jpg    1333   2000   \n",
       "1  100016175.jpg    1333   2000   \n",
       "2   10004189.jpg    2000   1333   \n",
       "3  100104575.jpg    1333   2000   \n",
       "4  100104600.jpg    2000   1333   \n",
       "\n",
       "                                                bbox     age       race  \\\n",
       "0  [934.0000000000097, 144.82228672769534, 238.24...  20-30s  Caucasian   \n",
       "1  [1094.0513571635438, 422.91772295627203, 55.45...  20-30s  Caucasian   \n",
       "2  [419.93871061403877, 269.1250391680045, 377.19...  20-30s  Mongoloid   \n",
       "3  [1490.6909678848915, 676.0000000000097, 37.553...  20-30s  Caucasian   \n",
       "4  [549.169724453414, 92.52040334013152, 306.8821...  20-30s  Caucasian   \n",
       "\n",
       "     masked   skintone    emotion  gender       RGB Mean Regional RGB Mean  \\\n",
       "0  unmasked  mid-light    Neutral    Male   97, 120, 154     168, 175, 183   \n",
       "1  unmasked      light    Neutral    Male     58, 71, 94        58, 59, 61   \n",
       "2  unmasked      light  Happiness  Female  150, 157, 200     228, 230, 237   \n",
       "3  unmasked  mid-light    Neutral    Male  137, 153, 176     201, 203, 205   \n",
       "4  unmasked  mid-light  Happiness  Female  106, 117, 137     180, 182, 185   \n",
       "\n",
       "         region1        region2        region3        region4  \n",
       "0    51, 73, 106  139, 160, 188   72, 100, 141  125, 147, 183  \n",
       "1   90, 106, 133     62, 74, 97    59, 75, 102     25, 33, 46  \n",
       "2    68, 81, 133  141, 150, 194  203, 206, 233  188, 190, 238  \n",
       "3  164, 180, 203    71, 89, 118  220, 226, 236  100, 122, 152  \n",
       "4     35, 41, 52  157, 169, 190    60, 75, 103  174, 181, 202  "
      ]
     },
     "execution_count": 30,
     "metadata": {},
     "output_type": "execute_result"
    }
   ],
   "source": [
    "labels.head()"
   ]
  },
  {
   "cell_type": "code",
   "execution_count": 31,
   "metadata": {},
   "outputs": [],
   "source": [
    "labels.to_csv(\"Fking_final_labels.csv\")"
   ]
  },
  {
   "cell_type": "code",
   "execution_count": 38,
   "metadata": {},
   "outputs": [],
   "source": [
    "data = pd.read_csv(\"Fking_final_labels.csv\")"
   ]
  },
  {
   "cell_type": "code",
   "execution_count": 37,
   "metadata": {},
   "outputs": [
    {
     "data": {
      "text/html": [
       "<div>\n",
       "<style scoped>\n",
       "    .dataframe tbody tr th:only-of-type {\n",
       "        vertical-align: middle;\n",
       "    }\n",
       "\n",
       "    .dataframe tbody tr th {\n",
       "        vertical-align: top;\n",
       "    }\n",
       "\n",
       "    .dataframe thead th {\n",
       "        text-align: right;\n",
       "    }\n",
       "</style>\n",
       "<table border=\"1\" class=\"dataframe\">\n",
       "  <thead>\n",
       "    <tr style=\"text-align: right;\">\n",
       "      <th></th>\n",
       "      <th>Unnamed: 0</th>\n",
       "      <th>file_name</th>\n",
       "      <th>height</th>\n",
       "      <th>width</th>\n",
       "      <th>bbox</th>\n",
       "      <th>age</th>\n",
       "      <th>race</th>\n",
       "      <th>masked</th>\n",
       "      <th>skintone</th>\n",
       "      <th>emotion</th>\n",
       "      <th>gender</th>\n",
       "      <th>RGB Mean</th>\n",
       "      <th>Regional RGB Mean</th>\n",
       "      <th>region1</th>\n",
       "      <th>region2</th>\n",
       "      <th>region3</th>\n",
       "      <th>region4</th>\n",
       "    </tr>\n",
       "  </thead>\n",
       "  <tbody>\n",
       "    <tr>\n",
       "      <th>458</th>\n",
       "      <td>458</td>\n",
       "      <td>1145376.jpg</td>\n",
       "      <td>2000</td>\n",
       "      <td>1328</td>\n",
       "      <td>[590.9311740890672, 1195.7831325301188, 245.66...</td>\n",
       "      <td>20-30s</td>\n",
       "      <td>Mongoloid</td>\n",
       "      <td>unmasked</td>\n",
       "      <td>mid-light</td>\n",
       "      <td>Happiness</td>\n",
       "      <td>Female</td>\n",
       "      <td>171, 191, 185</td>\n",
       "      <td>[]</td>\n",
       "      <td>193, 188, 174</td>\n",
       "      <td>176, 192, 204</td>\n",
       "      <td>170, 219, 193</td>\n",
       "      <td>145, 165, 171</td>\n",
       "    </tr>\n",
       "  </tbody>\n",
       "</table>\n",
       "</div>"
      ],
      "text/plain": [
       "     Unnamed: 0    file_name  height  width  \\\n",
       "458         458  1145376.jpg    2000   1328   \n",
       "\n",
       "                                                  bbox     age       race  \\\n",
       "458  [590.9311740890672, 1195.7831325301188, 245.66...  20-30s  Mongoloid   \n",
       "\n",
       "       masked   skintone    emotion  gender       RGB Mean Regional RGB Mean  \\\n",
       "458  unmasked  mid-light  Happiness  Female  171, 191, 185                []   \n",
       "\n",
       "           region1        region2        region3        region4  \n",
       "458  193, 188, 174  176, 192, 204  170, 219, 193  145, 165, 171  "
      ]
     },
     "execution_count": 37,
     "metadata": {},
     "output_type": "execute_result"
    }
   ],
   "source": [
    "data[data['file_name'] == \"1145376.jpg\"]"
   ]
  },
  {
   "cell_type": "code",
   "execution_count": 3,
   "metadata": {},
   "outputs": [
    {
     "data": {
      "text/plain": [
       "Index(['Unnamed: 0', 'file_name', 'height', 'width', 'bbox', 'age', 'race',\n",
       "       'masked', 'skintone', 'emotion', 'gender', 'RGB Mean',\n",
       "       'Regional RGB Mean', 'region1', 'region2', 'region3', 'region4'],\n",
       "      dtype='object')"
      ]
     },
     "execution_count": 3,
     "metadata": {},
     "output_type": "execute_result"
    }
   ],
   "source": [
    "data.columns"
   ]
  },
  {
   "cell_type": "code",
   "execution_count": 40,
   "metadata": {},
   "outputs": [
    {
     "data": {
      "text/plain": [
       "0          [-71, -55, -29]\n",
       "1              [0, 12, 33]\n",
       "2          [-78, -73, -37]\n",
       "3          [-64, -50, -29]\n",
       "4          [-74, -65, -48]\n",
       "               ...        \n",
       "15301    [-114, -109, -75]\n",
       "15302    [-112, -106, -73]\n",
       "15303    [-129, -125, -82]\n",
       "15304      [-83, -66, -31]\n",
       "15305      [-94, -79, -42]\n",
       "Length: 15306, dtype: object"
      ]
     },
     "execution_count": 40,
     "metadata": {},
     "output_type": "execute_result"
    }
   ],
   "source": [
    "data.apply(lambda row: np.array([int(i) for i in row['RGB Mean'].split(\", \")], dtype=np.int32) - np.array([int(i) for i in row['Regional RGB Mean'].split(\", \")], dtype=np.int32), axis=1)"
   ]
  },
  {
   "cell_type": "code",
   "execution_count": 44,
   "metadata": {},
   "outputs": [
    {
     "data": {
      "text/plain": [
       "'image_2713.jpg'"
      ]
     },
     "execution_count": 44,
     "metadata": {},
     "output_type": "execute_result"
    },
    {
     "ename": "",
     "evalue": "",
     "output_type": "error",
     "traceback": [
      "\u001b[1;31mThe Kernel crashed while executing code in the the current cell or a previous cell. Please review the code in the cell(s) to identify a possible cause of the failure. Click <a href='https://aka.ms/vscodeJupyterKernelCrash'>here</a> for more info. View Jupyter <a href='command:jupyter.viewOutput'>log</a> for further details."
     ]
    }
   ],
   "source": [
    "data.loc[15301, 'file_name']"
   ]
  },
  {
   "cell_type": "code",
   "execution_count": 43,
   "metadata": {},
   "outputs": [],
   "source": [
    "cv2.imread(\"./mnt/md0/projects/sami-hackathon/private/data/100013282.jpg\")"
   ]
  },
  {
   "cell_type": "code",
   "execution_count": null,
   "metadata": {},
   "outputs": [],
   "source": []
  }
 ],
 "metadata": {
  "kernelspec": {
   "display_name": "Pixta",
   "language": "python",
   "name": "python3"
  },
  "language_info": {
   "codemirror_mode": {
    "name": "ipython",
    "version": 3
   },
   "file_extension": ".py",
   "mimetype": "text/x-python",
   "name": "python",
   "nbconvert_exporter": "python",
   "pygments_lexer": "ipython3",
   "version": "3.9.18"
  }
 },
 "nbformat": 4,
 "nbformat_minor": 2
}
